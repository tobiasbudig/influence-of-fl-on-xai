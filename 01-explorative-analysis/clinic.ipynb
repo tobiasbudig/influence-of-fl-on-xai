{
 "cells": [
  {
   "cell_type": "code",
   "execution_count": null,
   "metadata": {
    "collapsed": false,
    "pycharm": {
     "name": "#%%\n"
    }
   },
   "outputs": [],
   "source": [
    "import pandas as pd\n",
    "import numpy as np\n",
    "import matplotlib.pyplot as plt"
   ]
  },
  {
   "cell_type": "code",
   "execution_count": null,
   "metadata": {
    "collapsed": false,
    "pycharm": {
     "name": "#%%\n"
    }
   },
   "outputs": [],
   "source": [
    "clinic = pd.read_csv(\"./clinic.csv\")\n",
    "clinic"
   ]
  },
  {
   "cell_type": "markdown",
   "metadata": {
    "collapsed": false,
    "pycharm": {
     "name": "#%% md\n"
    }
   },
   "source": [
    "# Goals\n",
    "\n",
    "- NaNs per feature\n",
    "- different values per features\n",
    "- one encoding of enums and maybe text\n",
    "- instances per clinic"
   ]
  },
  {
   "cell_type": "code",
   "execution_count": null,
   "metadata": {
    "collapsed": false,
    "pycharm": {
     "name": "#%%\n"
    }
   },
   "outputs": [],
   "source": [
    "clinic.describe()"
   ]
  },
  {
   "cell_type": "code",
   "execution_count": null,
   "metadata": {
    "collapsed": false,
    "pycharm": {
     "name": "#%%\n"
    }
   },
   "outputs": [],
   "source": [
    "# make blanks to NaN\n",
    "clinic = clinic.replace(r'^\\s*$', np.nan, regex=True)\n"
   ]
  },
  {
   "cell_type": "code",
   "execution_count": null,
   "metadata": {
    "collapsed": false,
    "pycharm": {
     "name": "#%%\n"
    }
   },
   "outputs": [],
   "source": [
    "nan_per_feature = clinic.isna().sum()\n",
    "nan_per_feature = pd.DataFrame(nan_per_feature, columns=[\"count\"])\n",
    "nan_per_feature"
   ]
  },
  {
   "cell_type": "code",
   "execution_count": null,
   "metadata": {
    "collapsed": false,
    "pycharm": {
     "name": "#%%\n"
    }
   },
   "outputs": [],
   "source": [
    "nan_per_feature[\"share\"] = nan_per_feature[\"count\"] / len(clinic)\n",
    "nan_per_feature"
   ]
  },
  {
   "cell_type": "markdown",
   "metadata": {
    "collapsed": false,
    "pycharm": {
     "name": "#%% md\n"
    }
   },
   "source": [
    "=> remove columns with share of NaNs > 20%?"
   ]
  },
  {
   "cell_type": "code",
   "execution_count": null,
   "metadata": {
    "collapsed": false,
    "pycharm": {
     "name": "#%%\n"
    }
   },
   "outputs": [],
   "source": [
    "NaN_threshold = 0.2\n",
    "NaN_threshold_value = len(clinic) * NaN_threshold\n",
    "(nan_per_feature['count'] > NaN_threshold_value).sum()"
   ]
  },
  {
   "cell_type": "code",
   "execution_count": null,
   "metadata": {
    "collapsed": false,
    "pycharm": {
     "name": "#%%\n"
    }
   },
   "outputs": [],
   "source": [
    "def calculate_number_of_informative_features(df: pd.DataFrame, threshold: float) -> int:\n",
    "    return (df[\"share\"] < threshold).sum()"
   ]
  },
  {
   "cell_type": "code",
   "execution_count": null,
   "metadata": {
    "collapsed": false,
    "pycharm": {
     "name": "#%%\n"
    }
   },
   "outputs": [],
   "source": [
    "calculate_number_of_informative_features(nan_per_feature, 0.2)"
   ]
  },
  {
   "cell_type": "code",
   "execution_count": null,
   "metadata": {
    "collapsed": false,
    "pycharm": {
     "name": "#%%\n"
    }
   },
   "outputs": [],
   "source": []
  },
  {
   "cell_type": "code",
   "execution_count": null,
   "metadata": {
    "collapsed": false,
    "pycharm": {
     "name": "#%%\n"
    }
   },
   "outputs": [],
   "source": [
    "thresholds = np.arange(0, 1, 0.01)\n",
    "relevant_features = [calculate_number_of_informative_features(nan_per_feature, threshold) for threshold in thresholds]\n",
    "\n",
    "plt.plot(thresholds, relevant_features)\n",
    "plt.xlabel(\"Threshold\")\n",
    "plt.ylabel(\"# Features\")\n",
    "plt.grid()\n",
    "plt.show()"
   ]
  },
  {
   "cell_type": "markdown",
   "metadata": {
    "collapsed": false,
    "pycharm": {
     "name": "#%% md\n"
    }
   },
   "source": [
    "Just from data perspective set threshold to 3% NaNs or 10% or 20%"
   ]
  },
  {
   "cell_type": "code",
   "execution_count": null,
   "metadata": {
    "collapsed": false,
    "pycharm": {
     "name": "#%%\n"
    }
   },
   "outputs": [],
   "source": [
    "calculate_number_of_informative_features(nan_per_feature, 0.05)"
   ]
  },
  {
   "cell_type": "code",
   "execution_count": null,
   "metadata": {
    "collapsed": false,
    "pycharm": {
     "name": "#%%\n"
    }
   },
   "outputs": [],
   "source": [
    "calculate_number_of_informative_features(nan_per_feature, 0.1)"
   ]
  },
  {
   "cell_type": "code",
   "execution_count": null,
   "metadata": {
    "collapsed": false,
    "pycharm": {
     "name": "#%%\n"
    }
   },
   "outputs": [],
   "source": [
    "calculate_number_of_informative_features(nan_per_feature, 0.2)\n"
   ]
  },
  {
   "cell_type": "markdown",
   "metadata": {
    "collapsed": false,
    "pycharm": {
     "name": "#%% md\n"
    }
   },
   "source": [
    "Show features to be removed"
   ]
  },
  {
   "cell_type": "code",
   "execution_count": null,
   "metadata": {
    "collapsed": false,
    "pycharm": {
     "name": "#%%\n"
    }
   },
   "outputs": [],
   "source": [
    "nan_per_feature[nan_per_feature['share'] > 0.05]"
   ]
  },
  {
   "cell_type": "markdown",
   "metadata": {
    "collapsed": false,
    "pycharm": {
     "name": "#%% md\n"
    }
   },
   "source": [
    "Now, we proceed with the filtered dataset with <= 5 % NaNs"
   ]
  },
  {
   "cell_type": "code",
   "execution_count": null,
   "metadata": {
    "collapsed": false,
    "pycharm": {
     "name": "#%%\n"
    }
   },
   "outputs": [],
   "source": [
    "features_to_use = nan_per_feature[nan_per_feature[\"share\"] <= 0.05]\n",
    "features_to_use.T.columns"
   ]
  },
  {
   "cell_type": "code",
   "execution_count": null,
   "metadata": {
    "collapsed": false,
    "pycharm": {
     "name": "#%%\n"
    }
   },
   "outputs": [],
   "source": [
    "features_to_use = features_to_use.T.columns\n",
    "features_to_use"
   ]
  },
  {
   "cell_type": "code",
   "execution_count": null,
   "metadata": {
    "collapsed": false,
    "pycharm": {
     "name": "#%%\n"
    }
   },
   "outputs": [],
   "source": [
    "clinic_reduced_NaNs = clinic[features_to_use]\n",
    "clinic_reduced_NaNs"
   ]
  },
  {
   "cell_type": "code",
   "execution_count": null,
   "metadata": {
    "collapsed": false,
    "pycharm": {
     "name": "#%%\n"
    }
   },
   "outputs": [],
   "source": [
    "clinic_reduced_NaNs.isnull().sum()"
   ]
  },
  {
   "cell_type": "markdown",
   "metadata": {
    "collapsed": false,
    "pycharm": {
     "name": "#%% md\n"
    }
   },
   "source": [
    "Max 20 = 4% of feature is null -> no action required"
   ]
  },
  {
   "cell_type": "markdown",
   "metadata": {
    "collapsed": false,
    "pycharm": {
     "name": "#%% md\n"
    }
   },
   "source": [
    "Next:\n",
    "- Encode YES/NO to 1/0\n",
    "- gender female = 1,  male = 0\n",
    "- one-hot-encode 1 to 5 enums\n",
    "- remove timestamps \"merge_date\", \"r_time\", \"studySubjectId\""
   ]
  },
  {
   "cell_type": "code",
   "execution_count": null,
   "metadata": {
    "collapsed": false,
    "pycharm": {
     "name": "#%%\n"
    }
   },
   "outputs": [],
   "source": [
    "clinic_reduced_NaNs = clinic_reduced_NaNs.drop([\"r_time\", \"merge_date\", \"StudySubjectID\", \"Unnamed: 0\"], axis=1 , errors='ignore')\n",
    "clinic_reduced_NaNs"
   ]
  },
  {
   "cell_type": "code",
   "execution_count": null,
   "metadata": {
    "collapsed": false,
    "pycharm": {
     "name": "#%%\n"
    }
   },
   "outputs": [],
   "source": [
    "from sklearn.preprocessing import OneHotEncoder\n",
    "\n",
    "drop_binary_enc = OneHotEncoder(drop='if_binary').fit(clinic_reduced_NaNs)\n",
    "drop_binary_enc.transform(clinic_reduced_NaNs)"
   ]
  },
  {
   "cell_type": "code",
   "execution_count": null,
   "metadata": {
    "collapsed": false,
    "pycharm": {
     "name": "#%%\n"
    }
   },
   "outputs": [],
   "source": [
    "pd.get_dummies(clinic_reduced_NaNs['r_gender'], prefix='gender', drop_first=True)"
   ]
  },
  {
   "cell_type": "code",
   "execution_count": null,
   "metadata": {
    "collapsed": false,
    "pycharm": {
     "name": "#%%\n"
    }
   },
   "outputs": [],
   "source": [
    "# use pd.concat to join the new columns with your original dataframe\n",
    "clinic_encoded = pd.concat([clinic_reduced_NaNs,pd.get_dummies(clinic_reduced_NaNs['r_gender'], prefix='gender', drop_first=True)], axis=1)\n",
    "\n",
    "# now drop the original 'country' column (you don't need it anymore)\n",
    "clinic_encoded.drop(['r_gender'],axis=1, inplace=True)\n",
    "clinic_encoded"
   ]
  },
  {
   "cell_type": "code",
   "execution_count": null,
   "metadata": {
    "collapsed": false,
    "pycharm": {
     "name": "#%%\n"
    }
   },
   "outputs": [],
   "source": []
  },
  {
   "cell_type": "code",
   "execution_count": null,
   "metadata": {
    "collapsed": false,
    "pycharm": {
     "name": "#%%\n"
    }
   },
   "outputs": [],
   "source": [
    "binary_features = [\"r_gender\",\"r_treall\", \"r_ivtrom\", \"b_pvstr\", \"b_pvmi\", \"b_pvpad\", \"b_pvdm\", \"b_pvrr\", \"b_pvaf\", \"b_pvhc\", \"b_smoke\", \"b_medap\", \"b_medcou\", \"b_medhep\", \"b_medsta\", \"b_medahs\", \"i_iatrt\",\"sympt_side\", \"sICH\", \"anysae\", \"SAE_IS_1stonly\", \"SAE_ICH_1stonly\", \"SAE_EH_1stonly\", \"SAE_CI_1stonly\", \"SAE_AR_1stonly\", \"SAE_PN_1stonly\", \"SAE_INF_1stonly\", \"SAE_OC_1stonly\", \"SAE_PS_1stonly\", \"ph2\", \"ph1\", \"ph2_c\", \"ph1_c\", \"hi1_c\", \"hi2_c\"]\n",
    "categorical_features = [ \"nih1a_abl\", \"nih1b_abl\", \"nih1c_abl\", \"nih2_abl\", \"nih3_abl\", \"nih4_abl\", \"nih5a_abl\", \"nih5b_abl\", \"nih6a_abl\", \"nih6b_abl\", \"nih7_abl\", \"nih8_abl\", \"nih9_abl\", \"nih10_abl\", \"nih11_abl\", \"premrs\", \"nih1a_b24h\", \"nih1b_b24h\", \"nih1c_b24h\", \"nih2_b24h\", \"nih3_b24h\", \"nih4_b24h\", \"nih5a_b24h\", \"nih5b_b24h\", \"nih6a_b24h\", \"nih6b_b24h\", \"nih7_b24h\", \"nih8_b24h\", \"nih9_b24h\", \"nih10_b24h\", \"nih11_b24h\", \"mrs_d90d_c\", \"loc_cta_abl\", \"cgsc_cta_abl_c\"]"
   ]
  },
  {
   "cell_type": "code",
   "execution_count": null,
   "metadata": {
    "collapsed": false,
    "pycharm": {
     "name": "#%%\n"
    }
   },
   "outputs": [],
   "source": [
    "clinic_binary = clinic_reduced_NaNs.replace(\"No\", 0)\n",
    "clinic_binary = clinic_binary.replace(\"Yes\", 1)\n",
    "\n",
    "clinic_binary = clinic_binary.replace(\"Male\", 0)\n",
    "clinic_binary = clinic_binary.replace(\"Female\", 1)\n",
    "clinic_binary = clinic_binary.rename(columns={\"r_gender\": \"female\"})\n",
    "\n",
    "clinic_binary = clinic_binary.replace(\"0 - No intra-arterial treatment\", 0)\n",
    "clinic_binary = clinic_binary.replace(\"1 - Intra-arterial treatment\", 1)\n",
    "clinic_binary = clinic_binary.rename(columns={\"r_treall\": \"intra_arterial_treatment\"})\n",
    "\n",
    "clinic_binary"
   ]
  },
  {
   "cell_type": "markdown",
   "metadata": {
    "collapsed": false,
    "pycharm": {
     "name": "#%% md\n"
    }
   },
   "source": [
    "https://machinelearningmastery.com/one-hot-encoding-for-categorical-data/\n",
    "referenes why we do that\n",
    "\n",
    "=> if use tree based methods, keep n features. If not stay with n-1 to prevent linear dependent features"
   ]
  },
  {
   "cell_type": "code",
   "execution_count": null,
   "metadata": {
    "collapsed": false,
    "pycharm": {
     "name": "#%%\n"
    }
   },
   "outputs": [],
   "source": [
    "clinic_categorical = clinic_binary[categorical_features]\n",
    "clinic_categorical"
   ]
  },
  {
   "cell_type": "code",
   "execution_count": null,
   "metadata": {
    "collapsed": false,
    "pycharm": {
     "name": "#%%\n"
    }
   },
   "outputs": [],
   "source": [
    "clinic_categorical = clinic_categorical.replace(\"0 - Alert\", \"Alert\")\n",
    "clinic_categorical = clinic_categorical.replace(\"1 - Not alert, but arousable\", \"No_Alert_but_arousable\")\n",
    "clinic_categorical = clinic_categorical.replace(\"2 - Not alert, requires repeated stimulation\", \"No_Alert_but_repeated_stimulation\")\n",
    "clinic_categorical = clinic_categorical.replace(\"3 - Comatose\", \"Comatose\")\n",
    "\n",
    "\n",
    "\n",
    "clinic_categorical"
   ]
  },
  {
   "cell_type": "code",
   "execution_count": null,
   "metadata": {
    "collapsed": false,
    "pycharm": {
     "name": "#%%\n"
    }
   },
   "outputs": [],
   "source": [
    "onehot_encoder = OneHotEncoder( sparse=False)\n",
    "transformed = onehot_encoder.fit_transform(pd.DataFrame(clinic_categorical[\"nih1a_abl\"]).to_numpy().reshape(-1, 1))\n",
    "transformed"
   ]
  },
  {
   "cell_type": "code",
   "execution_count": null,
   "metadata": {
    "collapsed": false,
    "pycharm": {
     "name": "#%%\n"
    }
   },
   "outputs": [],
   "source": [
    "pd.get_dummies(clinic_categorical[\"nih1b_abl\"], prefix='nih1b_abl', drop_first=True)"
   ]
  },
  {
   "cell_type": "code",
   "execution_count": null,
   "metadata": {
    "collapsed": false,
    "pycharm": {
     "name": "#%%\n"
    }
   },
   "outputs": [],
   "source": [
    "pd.get_dummies(clinic_categorical[\"nih1a_abl\"], prefix='nih1a_abl', drop_first=True)\n"
   ]
  },
  {
   "cell_type": "markdown",
   "metadata": {
    "collapsed": false,
    "pycharm": {
     "name": "#%% md\n"
    }
   },
   "source": [
    "to encode categorical features: loop through all categorical features and apply pd.get_dummies(). I need a drop_first parameter for dropping or not dropping the n-th category.\n"
   ]
  },
  {
   "cell_type": "code",
   "execution_count": null,
   "metadata": {
    "collapsed": false,
    "pycharm": {
     "name": "#%%\n"
    }
   },
   "outputs": [],
   "source": [
    "def get_dummies(df: pd.DataFrame, categorical_feature_list: list, drop_first: bool=True, inplace: bool=False) -> pd.DataFrame:\n",
    "\n",
    "    if inplace:\n",
    "        result = df\n",
    "    else:\n",
    "        result = pd.DataFrame()\n",
    "\n",
    "    for category in categorical_feature_list:\n",
    "        result = pd.concat((result, pd.get_dummies(df[category], prefix=category, drop_first=drop_first)), axis=1)\n",
    "        result.drop(category, axis=1, inplace=True)\n",
    "\n",
    "    return result"
   ]
  },
  {
   "cell_type": "code",
   "execution_count": null,
   "metadata": {
    "collapsed": false,
    "pycharm": {
     "name": "#%%\n"
    }
   },
   "outputs": [],
   "source": [
    "clinic_one_hot_encoded = get_dummies(clinic_categorical, categorical_features, inplace=True)\n",
    "clinic_one_hot_encoded"
   ]
  },
  {
   "cell_type": "code",
   "execution_count": null,
   "metadata": {
    "collapsed": false,
    "pycharm": {
     "name": "#%%\n"
    }
   },
   "outputs": [],
   "source": [
    "clinic_preprocessed = pd.concat((clinic_binary.drop(categorical_features, axis=1), clinic_one_hot_encoded), axis=1)\n",
    "clinic_preprocessed"
   ]
  },
  {
   "cell_type": "code",
   "execution_count": null,
   "metadata": {
    "collapsed": false,
    "pycharm": {
     "name": "#%%\n"
    }
   },
   "outputs": [],
   "source": [
    "plt.matshow(clinic_preprocessed.corr())\n",
    "plt.show()"
   ]
  },
  {
   "cell_type": "code",
   "execution_count": null,
   "metadata": {
    "collapsed": false,
    "pycharm": {
     "name": "#%%\n"
    }
   },
   "outputs": [],
   "source": [
    "f = plt.figure(figsize=(100, 100))\n",
    "plt.matshow(clinic_preprocessed.corr(), fignum=f.number)\n",
    "plt.xticks(range(clinic_preprocessed.select_dtypes(['number']).shape[1]), clinic_preprocessed.select_dtypes(['number']).columns, fontsize=14, rotation=45)\n",
    "plt.yticks(range(clinic_preprocessed.select_dtypes(['number']).shape[1]), clinic_preprocessed.select_dtypes(['number']).columns, fontsize=14)\n",
    "cb = plt.colorbar()\n",
    "cb.ax.tick_params(labelsize=14)\n",
    "plt.title('Correlation Matrix', fontsize=16);"
   ]
  },
  {
   "cell_type": "code",
   "execution_count": null,
   "metadata": {
    "collapsed": false,
    "pycharm": {
     "name": "#%%\n"
    }
   },
   "outputs": [],
   "source": [
    "corr = clinic_preprocessed.corr()\n",
    "corr[corr.abs() < 1].unstack().transpose().sort_values( ascending=False).drop_duplicates()"
   ]
  },
  {
   "cell_type": "markdown",
   "metadata": {
    "collapsed": false,
    "pycharm": {
     "name": "#%% md\n"
    }
   },
   "source": [
    "highly correlated\n",
    "- ph2_c - ph2 - SAE_ICH_1stonly\n",
    "- i_iatrt - intra_arterial_treatment\n",
    "- dur_orp_i - dur_ornd"
   ]
  },
  {
   "cell_type": "markdown",
   "metadata": {
    "collapsed": false,
    "pycharm": {
     "name": "#%% md\n"
    }
   },
   "source": [
    "mrs_d90d_c -> outcome\n",
    "\n",
    "\n",
    "- SEX\n",
    "- AGE\n",
    "- THLYSE -> tryboses (treatment) (r_ivtrom\tr_treall)\n",
    "- PRE_CARE -> (situation before At home, etc)\n",
    "- NIHSS_1D -> nihsco_abl_c\n",
    "- HYPERCHOL -> hypercholesterolemia\n",
    "- DIAB -> diabetis\n",
    "- ARTER_HYPERT -> hypertension\n",
    "- PREV_STROKE -> previous stroke\n",
    "- AF -> atrial fibrillation\n",
    "- TIME_TO_IMAGE: (acute scan date - stroke onset date)\n",
    "\n",
    "https://git-ext.charite.de/claim/machine-learning/outcome-prediction/mmop/-/blob/paper_experiments/Data_Preprocessing/Clinical_features_extraction.ipynb\n",
    "\n",
    "\n"
   ]
  },
  {
   "cell_type": "markdown",
   "metadata": {
    "collapsed": false,
    "pycharm": {
     "name": "#%% md\n"
    }
   },
   "source": []
  },
  {
   "cell_type": "markdown",
   "metadata": {
    "collapsed": false,
    "pycharm": {
     "name": "#%% md\n"
    }
   },
   "source": [
    "to do\n",
    "- check which features to use (check with Jana)\n",
    "- few features as baseline (see Slack)\n",
    "- study side (as lable for federated learning)\n",
    "- exlusion criteria ?"
   ]
  },
  {
   "cell_type": "markdown",
   "metadata": {
    "collapsed": false,
    "pycharm": {
     "name": "#%% md\n"
    }
   },
   "source": [
    "ct_abl_time\n",
    "dur_... -> duration\n",
    "dur_oa ->"
   ]
  },
  {
   "cell_type": "code",
   "execution_count": null,
   "metadata": {
    "collapsed": false,
    "pycharm": {
     "name": "#%%\n"
    }
   },
   "outputs": [],
   "source": []
  },
  {
   "cell_type": "code",
   "execution_count": null,
   "metadata": {
    "collapsed": false,
    "pycharm": {
     "name": "#%%\n"
    }
   },
   "outputs": [],
   "source": []
  }
 ],
 "metadata": {
  "kernelspec": {
   "display_name": "Python 3.9.13 64-bit",
   "language": "python",
   "name": "python3"
  },
  "language_info": {
   "codemirror_mode": {
    "name": "ipython",
    "version": 2
   },
   "file_extension": ".py",
   "mimetype": "text/x-python",
   "name": "python",
   "nbconvert_exporter": "python",
   "pygments_lexer": "ipython2",
   "version": "3.9.13"
  },
  "vscode": {
   "interpreter": {
    "hash": "aee8b7b246df8f9039afb4144a1f6fd8d2ca17a180786b69acc140d282b71a49"
   }
  }
 },
 "nbformat": 4,
 "nbformat_minor": 0
}
