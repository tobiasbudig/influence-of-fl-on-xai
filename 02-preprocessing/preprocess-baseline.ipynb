{
 "cells": [
  {
   "cell_type": "code",
   "execution_count": null,
   "metadata": {
    "collapsed": false,
    "pycharm": {
     "name": "#%%\n"
    }
   },
   "outputs": [],
   "source": [
    "import pandas as pd\n",
    "import matplotlib.pyplot as plt\n",
    "from sklearn.model_selection import train_test_split\n"
   ]
  },
  {
   "cell_type": "code",
   "execution_count": null,
   "metadata": {
    "collapsed": false,
    "pycharm": {
     "name": "#%%\n"
    }
   },
   "outputs": [],
   "source": [
    "clinic = pd.read_csv(\"clinic.csv\")\n",
    "clinic"
   ]
  },
  {
   "cell_type": "code",
   "execution_count": null,
   "metadata": {
    "collapsed": false,
    "pycharm": {
     "name": "#%%\n"
    }
   },
   "outputs": [],
   "source": [
    "baseline_features = [\"r_gender\", \"age\", \"r_ivtrom\", \"r_treall\", \"b_pvstr\", \"b_pvdm\", \"b_pvrr\", \"b_pvaf\", \"b_pvhc\", \"nihsco_abl_c\", \"StudySubjectID\"]\n",
    "target_feature = \"mrs_d90d_c\""
   ]
  },
  {
   "cell_type": "markdown",
   "metadata": {
    "collapsed": false,
    "pycharm": {
     "name": "#%% md\n"
    }
   },
   "source": [
    "## Preprocess Y"
   ]
  },
  {
   "cell_type": "code",
   "execution_count": null,
   "metadata": {
    "collapsed": false,
    "pycharm": {
     "name": "#%%\n"
    }
   },
   "outputs": [],
   "source": [
    "baseline_y_pre = clinic[target_feature]\n",
    "baseline_y_pre"
   ]
  },
  {
   "cell_type": "code",
   "execution_count": null,
   "metadata": {
    "collapsed": false,
    "pycharm": {
     "name": "#%%\n"
    }
   },
   "outputs": [],
   "source": [
    "y_pre_distribution = baseline_y_pre.value_counts()\n",
    "y_pre_distribution"
   ]
  },
  {
   "cell_type": "code",
   "execution_count": null,
   "metadata": {
    "collapsed": false,
    "pycharm": {
     "name": "#%%\n"
    }
   },
   "outputs": [],
   "source": [
    "plt.pie(x=y_pre_distribution.values, labels=y_pre_distribution.index)\n",
    "plt.show()"
   ]
  },
  {
   "cell_type": "code",
   "execution_count": null,
   "metadata": {
    "collapsed": false,
    "pycharm": {
     "name": "#%%\n"
    }
   },
   "outputs": [],
   "source": [
    "y_val_to_replace = {'mRS 0 - No symptoms (code 6)': 0,\n",
    "                    'mRS 1 - Minor symptoms, no limitations (code 5)': 0,\n",
    "                    'mRS 2 - Slight disability, no help needed (code 4)': 0,\n",
    "                    'mRS 3 - Moderate disability, still independent (code 3)': 1,\n",
    "                    'mRS 4 - Moderately severe disability (code 2)': 1,\n",
    "                    'mRS 5 - Severe disability, completely dependent (code 1)': 1,\n",
    "                    'mRS 6 - Death (code 0)': 1}\n",
    "y_baseline = baseline_y_pre.replace(y_val_to_replace)\n",
    "y_baseline"
   ]
  },
  {
   "cell_type": "code",
   "execution_count": null,
   "metadata": {
    "collapsed": false,
    "pycharm": {
     "name": "#%%\n"
    }
   },
   "outputs": [],
   "source": [
    "y_distribution = y_baseline.value_counts()\n",
    "y_distribution"
   ]
  },
  {
   "cell_type": "code",
   "execution_count": null,
   "metadata": {
    "collapsed": false,
    "pycharm": {
     "name": "#%%\n"
    }
   },
   "outputs": [],
   "source": [
    "plt.pie(x=y_distribution.values, labels=y_distribution.index)\n",
    "plt.show()"
   ]
  },
  {
   "cell_type": "markdown",
   "metadata": {
    "collapsed": false,
    "pycharm": {
     "name": "#%% md\n"
    }
   },
   "source": [
    "### Result\n",
    "\n",
    "Labels are not equal distributed. might need to balance data!"
   ]
  },
  {
   "cell_type": "code",
   "execution_count": null,
   "metadata": {
    "collapsed": false,
    "pycharm": {
     "name": "#%%\n"
    }
   },
   "outputs": [],
   "source": []
  },
  {
   "cell_type": "markdown",
   "metadata": {
    "collapsed": false,
    "pycharm": {
     "name": "#%% md\n"
    }
   },
   "source": [
    "## Preprocess X"
   ]
  },
  {
   "cell_type": "code",
   "execution_count": null,
   "metadata": {
    "collapsed": false,
    "pycharm": {
     "name": "#%%\n"
    }
   },
   "outputs": [],
   "source": [
    "baseline_X_pre = clinic[baseline_features]\n",
    "baseline_X_pre"
   ]
  },
  {
   "cell_type": "code",
   "execution_count": null,
   "metadata": {
    "collapsed": false,
    "pycharm": {
     "name": "#%%\n"
    }
   },
   "outputs": [],
   "source": [
    "X_val_to_replace = {'Male' : 0,\n",
    "                    'Female' : 1,\n",
    "                    'Yes' : 1,\n",
    "                    'No' : 0,\n",
    "                    '1 - Intra-arterial treatment' : 1,\n",
    "                    '0 - No intra-arterial treatment' : 0\n",
    "                    }\n",
    "X_baseline = baseline_X_pre.replace(X_val_to_replace).rename({\"r_gender\": \"female\", 'r_treall': 'intra_arterial_treatment'}, axis=\"columns\")\n",
    "X_baseline"
   ]
  },
  {
   "cell_type": "code",
   "execution_count": null,
   "metadata": {
    "collapsed": false,
    "pycharm": {
     "name": "#%%\n"
    }
   },
   "outputs": [],
   "source": [
    "baseline_NIHSS_mean = X_baseline[\"nihsco_abl_c\"].mean()\n",
    "baseline_age_mean = X_baseline[\"age\"].mean()\n",
    "baseline_NIHSS_mean"
   ]
  },
  {
   "cell_type": "code",
   "execution_count": null,
   "metadata": {
    "collapsed": false,
    "pycharm": {
     "name": "#%%\n"
    }
   },
   "outputs": [],
   "source": [
    "baseline_NIHSS_std = X_baseline[\"nihsco_abl_c\"].std()\n",
    "baseline_age_std = X_baseline[\"age\"].std()\n",
    "baseline_NIHSS_std"
   ]
  },
  {
   "cell_type": "code",
   "execution_count": null,
   "metadata": {
    "collapsed": false,
    "pycharm": {
     "name": "#%%\n"
    }
   },
   "outputs": [],
   "source": [
    "X_baseline[\"nihsco_abl_c\"] = (X_baseline[\"nihsco_abl_c\"] - baseline_NIHSS_mean) / baseline_NIHSS_std\n",
    "X_baseline[\"age\"] = (X_baseline[\"age\"] - baseline_age_mean) / baseline_age_std\n",
    "X_baseline"
   ]
  },
  {
   "cell_type": "code",
   "execution_count": null,
   "metadata": {
    "collapsed": false,
    "pycharm": {
     "name": "#%%\n"
    }
   },
   "outputs": [],
   "source": [
    "baseline_age_std, baseline_age_mean"
   ]
  },
  {
   "cell_type": "code",
   "execution_count": null,
   "metadata": {
    "collapsed": false,
    "pycharm": {
     "name": "#%%\n"
    }
   },
   "outputs": [],
   "source": [
    "X_baseline[\"nihsco_abl_c\"].mean()"
   ]
  },
  {
   "cell_type": "code",
   "execution_count": null,
   "metadata": {
    "collapsed": false,
    "pycharm": {
     "name": "#%%\n"
    }
   },
   "outputs": [],
   "source": [
    "baseline_dataset = pd.concat((X_baseline, y_baseline), axis=\"columns\")\n",
    "baseline_dataset"
   ]
  },
  {
   "cell_type": "code",
   "execution_count": null,
   "metadata": {
    "collapsed": false,
    "pycharm": {
     "name": "#%%\n"
    }
   },
   "outputs": [],
   "source": [
    "# set clinical center\n",
    "baseline_dataset[\"StudySubjectID\"] = baseline_dataset.StudySubjectID.apply(lambda s: s[:3])\n",
    "baseline_dataset"
   ]
  },
  {
   "cell_type": "code",
   "execution_count": null,
   "metadata": {
    "collapsed": false,
    "pycharm": {
     "name": "#%%\n"
    }
   },
   "outputs": [],
   "source": [
    "BIGGEST_CENTERS = [\"ANT\",\n",
    "     \"AMC\",\n",
    "     \"LUM\",\n",
    "     \"AZM\",\n",
    "     \"RIJ\",\n",
    "     \"MCH\"]"
   ]
  },
  {
   "cell_type": "code",
   "execution_count": null,
   "metadata": {
    "collapsed": false,
    "pycharm": {
     "name": "#%%\n"
    }
   },
   "outputs": [],
   "source": [
    "baseline_dataset[\"StudySubjectID\"].value_counts().index.values.tolist()"
   ]
  },
  {
   "cell_type": "code",
   "execution_count": null,
   "metadata": {
    "collapsed": false,
    "pycharm": {
     "name": "#%%\n"
    }
   },
   "outputs": [],
   "source": [
    "def keep_only_centers(df: pd.DataFrame, centers: list[str]) -> pd.DataFrame:\n",
    "    return df[df[\"StudySubjectID\"].isin(centers)]"
   ]
  },
  {
   "cell_type": "code",
   "execution_count": null,
   "metadata": {
    "collapsed": false,
    "pycharm": {
     "name": "#%%\n"
    }
   },
   "outputs": [],
   "source": [
    "TRAIN_RATIO = 0.75\n",
    "VAL_RATIO = 0.0\n",
    "TEST_RATIO = 0.25\n",
    "\n",
    "# TRAIN_RATIO = 0.65\n",
    "# VAL_RATIO = 0.15\n",
    "# TEST_RATIO = 0.20\n",
    "\n",
    "def split_df_centers(df: pd.DataFrame):\n",
    "\n",
    "    all_train_sets_org = []\n",
    "    all_val_sets_org = []\n",
    "    all_test_sets_org = []\n",
    "\n",
    "    all_train_sets_norm = []\n",
    "    all_val_sets_norm = []\n",
    "    all_test_sets_norm = []\n",
    "\n",
    "    for center in df[\"StudySubjectID\"].value_counts().index.values.tolist():\n",
    "\n",
    "        df_center = df[df[\"StudySubjectID\"] == center]\n",
    "\n",
    "        X_center = df_center.iloc[:,:-1]\n",
    "        y_center = df_center.iloc[:,-1]\n",
    "\n",
    "        X_train_center, X_test_temp_center, y_train_center, y_test_temp_center = train_test_split(X_center, y_center, test_size=1-TRAIN_RATIO)\n",
    "\n",
    "        X_val_center, X_test_center, y_val_center, y_test_center = train_test_split(X_test_temp_center, y_test_temp_center, test_size=TEST_RATIO/(TEST_RATIO + VAL_RATIO))\n",
    "\n",
    "        #save DFs before normalisation\n",
    "        train_concat_org = pd.concat((X_train_center, y_train_center), axis=\"columns\")\n",
    "        val_concat_org = pd.concat((X_val_center, y_val_center), axis=\"columns\")\n",
    "        test_concat_org = pd.concat((X_test_center, y_test_center), axis=\"columns\")\n",
    "\n",
    "        train_concat_org.to_csv(f\"./datasets/train_org_{center}.csv\", index=False)\n",
    "        val_concat_org.to_csv(f\"./datasets/val_org_{center}.csv\", index=False)\n",
    "        test_concat_org.to_csv(f\"./datasets/test_org_{center}.csv\", index=False)\n",
    "\n",
    "        all_train_sets_org.append(train_concat_org)\n",
    "        all_val_sets_org.append(val_concat_org)\n",
    "        all_test_sets_org.append(test_concat_org)\n",
    "\n",
    "\n",
    "\n",
    "        # calculate normalisation\n",
    "        NIHSS_mean_center = X_train_center[\"nihsco_abl_c\"].mean()\n",
    "        age_mean_center = X_train_center[\"age\"].mean()\n",
    "\n",
    "        NIHSS_std_center = X_train_center[\"nihsco_abl_c\"].std()\n",
    "        age_std_center = X_train_center[\"age\"].std()\n",
    "\n",
    "        X_train_center[\"nihsco_abl_c\"] = (X_train_center[\"nihsco_abl_c\"] - NIHSS_mean_center) / NIHSS_std_center\n",
    "        X_train_center[\"age\"] = (X_train_center[\"age\"] - age_mean_center) / age_std_center\n",
    "\n",
    "        X_val_center[\"nihsco_abl_c\"] = (X_val_center[\"nihsco_abl_c\"] - NIHSS_mean_center) / NIHSS_std_center\n",
    "        X_val_center[\"age\"] = (X_val_center[\"age\"] - age_mean_center) / age_std_center\n",
    "\n",
    "        X_test_center[\"nihsco_abl_c\"] = (X_test_center[\"nihsco_abl_c\"] - NIHSS_mean_center) / NIHSS_std_center\n",
    "        X_test_center[\"age\"] = (X_test_center[\"age\"] - age_mean_center) / age_std_center\n",
    "\n",
    "        #save DFs before normalisation\n",
    "        train_concat_norm = pd.concat((X_train_center, y_train_center), axis=\"columns\")\n",
    "        val_concat_norm = pd.concat((X_val_center, y_val_center), axis=\"columns\")\n",
    "        test_concat_norm = pd.concat((X_test_center, y_test_center), axis=\"columns\")\n",
    "\n",
    "        train_concat_norm.to_csv(f\"./datasets/train_norm_{center}.csv\", index=False)\n",
    "        val_concat_norm.to_csv(f\"./datasets/val_norm_{center}.csv\", index=False)\n",
    "        test_concat_norm.to_csv(f\"./datasets/test_norm_{center}.csv\", index=False)\n",
    "\n",
    "        all_train_sets_norm.append(train_concat_norm)\n",
    "        all_val_sets_norm.append(val_concat_norm)\n",
    "        all_test_sets_norm.append(test_concat_norm)\n",
    "\n",
    "\n",
    "\n",
    "    pd.concat(all_train_sets_org).to_csv(f\"./datasets/train_org_full.csv\", index=False)\n",
    "    pd.concat(all_train_sets_norm).to_csv(f\"./datasets/train_norm_full.csv\", index=False)\n",
    "\n",
    "    pd.concat(all_val_sets_org).to_csv(f\"./datasets/val_org_full.csv\", index=False)\n",
    "    pd.concat(all_val_sets_norm).to_csv(f\"./datasets/val_norm_full.csv\", index=False)\n",
    "\n",
    "    pd.concat(all_test_sets_org).to_csv(f\"./datasets/test_org_full.csv\", index=False)\n",
    "    pd.concat(all_test_sets_norm).to_csv(f\"./datasets/test_norm_full.csv\", index=False)\n",
    "\n",
    "\n"
   ]
  },
  {
   "cell_type": "code",
   "execution_count": null,
   "metadata": {
    "collapsed": false,
    "pycharm": {
     "name": "#%%\n"
    }
   },
   "outputs": [],
   "source": [
    "reduced = keep_only_centers(baseline_dataset, BIGGEST_CENTERS)\n",
    "reduced"
   ]
  },
  {
   "cell_type": "code",
   "execution_count": null,
   "metadata": {
    "collapsed": false,
    "pycharm": {
     "name": "#%%\n"
    }
   },
   "outputs": [],
   "source": [
    "split_df_centers(reduced)"
   ]
  },
  {
   "cell_type": "code",
   "execution_count": null,
   "metadata": {
    "collapsed": false,
    "pycharm": {
     "name": "#%%\n"
    }
   },
   "outputs": [],
   "source": [
    "baseline_dataset.to_csv(\"./clinic_federated_preprocessed_without_normalisation.csv\", index=False)"
   ]
  },
  {
   "cell_type": "code",
   "execution_count": null,
   "metadata": {
    "collapsed": false,
    "pycharm": {
     "name": "#%%\n"
    }
   },
   "outputs": [],
   "source": [
    "train_ratio = 0.65\n",
    "validation_ratio = 0.15\n",
    "test_ratio = 0.20\n",
    "\n",
    "x_full = baseline_dataset.iloc[:,:-1]\n",
    "y_full = baseline_dataset.iloc[:,-1]\n",
    "\n",
    "# train is now 65% of the entire data set\n",
    "X_train, x_test_temp, y_train, y_test_temp = train_test_split(x_full, y_full, test_size=1 - train_ratio)\n",
    "\n",
    "# test is now 20% of the initial data set\n",
    "# validation is now 15% of the initial data set\n",
    "X_val, X_test, y_val, y_test = train_test_split(x_test_temp, y_test_temp, test_size=test_ratio/(test_ratio + validation_ratio))\n",
    "\n",
    "X_train.shape, X_val.shape, X_test.shape"
   ]
  },
  {
   "cell_type": "code",
   "execution_count": null,
   "metadata": {
    "collapsed": false,
    "pycharm": {
     "name": "#%%\n"
    }
   },
   "outputs": [],
   "source": [
    "X_train.StudySubjectID.value_counts()"
   ]
  },
  {
   "cell_type": "code",
   "execution_count": null,
   "metadata": {
    "collapsed": false,
    "pycharm": {
     "name": "#%%\n"
    }
   },
   "outputs": [],
   "source": [
    "pd.concat((X_train, y_train), axis=\"columns\").to_csv(\"./clinic_fed_train.csv\")"
   ]
  },
  {
   "cell_type": "code",
   "execution_count": null,
   "metadata": {
    "collapsed": false,
    "pycharm": {
     "name": "#%%\n"
    }
   },
   "outputs": [],
   "source": [
    "pd.concat((X_val, y_val), axis=\"columns\").to_csv(\"./clinic_fed_val.csv\")\n",
    "pd.concat((X_test, y_test), axis=\"columns\").to_csv(\"./clinic_fed_test.csv\")"
   ]
  },
  {
   "cell_type": "code",
   "execution_count": null,
   "metadata": {
    "collapsed": false,
    "pycharm": {
     "name": "#%%\n"
    }
   },
   "outputs": [],
   "source": [
    "baseline_dataset.drop(\"StudySubjectID\", axis=\"columns\").to_csv(\"./baseline_dataset_medium_in_one.csv\", index=False)"
   ]
  },
  {
   "cell_type": "code",
   "execution_count": null,
   "metadata": {
    "collapsed": false,
    "pycharm": {
     "name": "#%%\n"
    }
   },
   "outputs": [],
   "source": [
    "baseline_dataset.to_pickle(\"./baseline_dataset.pkl\", protocol=4)"
   ]
  },
  {
   "cell_type": "code",
   "execution_count": null,
   "metadata": {
    "collapsed": false,
    "pycharm": {
     "name": "#%%\n"
    }
   },
   "outputs": [],
   "source": [
    "pd.concat((X_baseline, y_baseline), axis=\"columns\").drop(\"StudySubjectID\", axis=\"columns\").to_csv(\"./baseline_dataset_three_cat.csv\", index=False) #without normalisation"
   ]
  },
  {
   "cell_type": "code",
   "execution_count": null,
   "metadata": {
    "collapsed": false,
    "pycharm": {
     "name": "#%%\n"
    }
   },
   "outputs": [],
   "source": []
  },
  {
   "cell_type": "code",
   "execution_count": null,
   "metadata": {
    "collapsed": false,
    "pycharm": {
     "name": "#%%\n"
    }
   },
   "outputs": [],
   "source": [
    "# plot y per center\n",
    "# -> bias?\n"
   ]
  },
  {
   "cell_type": "code",
   "execution_count": null,
   "metadata": {
    "collapsed": false,
    "pycharm": {
     "name": "#%%\n"
    }
   },
   "outputs": [],
   "source": [
    "plt.pie(x=y_pre_distribution.values, labels=y_pre_distribution.index)\n",
    "plt.show()"
   ]
  },
  {
   "cell_type": "code",
   "execution_count": null,
   "metadata": {
    "collapsed": false,
    "pycharm": {
     "name": "#%%\n"
    }
   },
   "outputs": [],
   "source": [
    "baseline_dataset.iloc[:, :-2]"
   ]
  },
  {
   "cell_type": "code",
   "execution_count": null,
   "metadata": {
    "collapsed": false,
    "pycharm": {
     "name": "#%%\n"
    }
   },
   "outputs": [],
   "source": [
    "baseline_dataset"
   ]
  },
  {
   "cell_type": "code",
   "execution_count": null,
   "metadata": {
    "collapsed": false,
    "pycharm": {
     "name": "#%%\n"
    }
   },
   "outputs": [],
   "source": [
    "age = baseline_dataset.age\n",
    "age"
   ]
  },
  {
   "cell_type": "code",
   "execution_count": null,
   "metadata": {
    "collapsed": false,
    "pycharm": {
     "name": "#%%\n"
    }
   },
   "outputs": [],
   "source": [
    "plt.scatter(age, baseline_dataset.mrs_d90d_c)\n",
    "plt.show()"
   ]
  },
  {
   "cell_type": "code",
   "execution_count": null,
   "metadata": {
    "collapsed": false,
    "pycharm": {
     "name": "#%%\n"
    }
   },
   "outputs": [],
   "source": [
    "print(baseline_dataset[[\"age\", \"mrs_d90d_c\"]].corr().iloc[0,-1])"
   ]
  },
  {
   "cell_type": "code",
   "execution_count": null,
   "metadata": {
    "collapsed": false,
    "pycharm": {
     "name": "#%%\n"
    }
   },
   "outputs": [],
   "source": [
    "baseline_dataset[[\"age\", \"mrs_d90d_c\"]].corr()"
   ]
  },
  {
   "cell_type": "code",
   "execution_count": null,
   "metadata": {
    "collapsed": false,
    "pycharm": {
     "name": "#%%\n"
    }
   },
   "outputs": [],
   "source": [
    "import numpy as np"
   ]
  },
  {
   "cell_type": "code",
   "execution_count": null,
   "metadata": {
    "collapsed": false,
    "pycharm": {
     "name": "#%%\n"
    }
   },
   "outputs": [],
   "source": [
    "baseline_X_pre"
   ]
  },
  {
   "cell_type": "code",
   "execution_count": null,
   "metadata": {
    "collapsed": false,
    "pycharm": {
     "name": "#%%\n"
    }
   },
   "outputs": [],
   "source": [
    "np.array_split(baseline_X_pre, 3)"
   ]
  },
  {
   "cell_type": "code",
   "execution_count": null,
   "metadata": {
    "collapsed": false,
    "pycharm": {
     "name": "#%%\n"
    }
   },
   "outputs": [],
   "source": [
    "baseline_X_pre.iloc[3:, :]"
   ]
  },
  {
   "cell_type": "code",
   "execution_count": null,
   "metadata": {
    "collapsed": false,
    "pycharm": {
     "name": "#%%\n"
    }
   },
   "outputs": [],
   "source": [
    "baseline_X_pre.iloc[:3, :]"
   ]
  },
  {
   "cell_type": "code",
   "execution_count": null,
   "metadata": {
    "collapsed": false,
    "pycharm": {
     "name": "#%%\n"
    }
   },
   "outputs": [],
   "source": [
    "baseline_X_pre[\"StudySubjectID\"] = baseline_X_pre.StudySubjectID.apply(lambda s: s[:3])"
   ]
  },
  {
   "cell_type": "markdown",
   "metadata": {
    "collapsed": false,
    "pycharm": {
     "name": "#%% md\n"
    }
   },
   "source": []
  },
  {
   "cell_type": "code",
   "execution_count": null,
   "metadata": {
    "collapsed": false,
    "pycharm": {
     "name": "#%%\n"
    }
   },
   "outputs": [],
   "source": [
    "((np.array(baseline_X_pre[\"StudySubjectID\"].value_counts().iloc[:6].to_list()) / 370) * 273).round(0).sum()"
   ]
  },
  {
   "cell_type": "code",
   "execution_count": null,
   "metadata": {
    "collapsed": false,
    "pycharm": {
     "name": "#%%\n"
    }
   },
   "outputs": [],
   "source": [
    "len(baseline_X_pre)"
   ]
  },
  {
   "cell_type": "code",
   "execution_count": null,
   "metadata": {
    "collapsed": false,
    "pycharm": {
     "name": "#%%\n"
    }
   },
   "outputs": [],
   "source": [
    "x = 60 / 100 * 273"
   ]
  },
  {
   "cell_type": "code",
   "execution_count": null,
   "metadata": {
    "collapsed": false,
    "pycharm": {
     "name": "#%%\n"
    }
   },
   "outputs": [],
   "source": [
    "x"
   ]
  },
  {
   "cell_type": "code",
   "execution_count": null,
   "metadata": {
    "collapsed": false,
    "pycharm": {
     "name": "#%%\n"
    }
   },
   "outputs": [],
   "source": [
    "round(x)"
   ]
  },
  {
   "cell_type": "code",
   "execution_count": null,
   "metadata": {
    "collapsed": false,
    "pycharm": {
     "name": "#%%\n"
    }
   },
   "outputs": [],
   "source": [
    "round(25 / 100 * 273)"
   ]
  },
  {
   "cell_type": "code",
   "execution_count": null,
   "metadata": {
    "collapsed": false,
    "pycharm": {
     "name": "#%%\n"
    }
   },
   "outputs": [],
   "source": [
    "round(15 / 100 * 273)"
   ]
  },
  {
   "cell_type": "code",
   "execution_count": null,
   "metadata": {
    "collapsed": false,
    "pycharm": {
     "name": "#%%\n"
    }
   },
   "outputs": [],
   "source": [
    "164 + 68 + 41"
   ]
  },
  {
   "cell_type": "code",
   "execution_count": null,
   "metadata": {
    "collapsed": false,
    "pycharm": {
     "name": "#%%\n"
    }
   },
   "outputs": [],
   "source": [
    "44.0\n",
    "38.0\n",
    "33.0\n",
    "32.0\n",
    "29.0\n",
    "27.0"
   ]
  }
 ],
 "metadata": {
  "kernelspec": {
   "display_name": "Python 3.9.13 64-bit",
   "language": "python",
   "name": "python3"
  },
  "language_info": {
   "codemirror_mode": {
    "name": "ipython",
    "version": 2
   },
   "file_extension": ".py",
   "mimetype": "text/x-python",
   "name": "python",
   "nbconvert_exporter": "python",
   "pygments_lexer": "ipython2",
   "version": "3.9.13"
  },
  "vscode": {
   "interpreter": {
    "hash": "aee8b7b246df8f9039afb4144a1f6fd8d2ca17a180786b69acc140d282b71a49"
   }
  }
 },
 "nbformat": 4,
 "nbformat_minor": 0
}
