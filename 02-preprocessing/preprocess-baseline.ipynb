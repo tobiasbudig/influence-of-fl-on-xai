{
 "cells": [
  {
   "cell_type": "code",
   "execution_count": 1,
   "outputs": [],
   "source": [
    "import pandas as pd\n",
    "import matplotlib.pyplot as plt\n",
    "from sklearn.model_selection import train_test_split\n"
   ],
   "metadata": {
    "collapsed": false,
    "pycharm": {
     "name": "#%%\n"
    }
   }
  },
  {
   "cell_type": "code",
   "execution_count": 2,
   "outputs": [
    {
     "data": {
      "text/plain": "     Unnamed: 0 StudySubjectID r_time r_gender  r_weight r_ivtrom  \\\n0             0         AMC001  22:13     Male      66.0      Yes   \n1             1         AMC002  04:59     Male      98.0       No   \n2             2         AMC003  05:51     Male      90.0       No   \n3             3         AMC004  01:53     Male      90.0      Yes   \n4             4         AMC005  15:16     Male      70.0      Yes   \n..          ...            ...    ...      ...       ...      ...   \n495         495        VUMC001  15:00     Male      92.0      Yes   \n496         496        VUMC002  16:42     Male      82.0      Yes   \n497         497        VUMC003  19:38   Female      67.0       No   \n498         498        VUMC004  18:56     Male      80.0      Yes   \n499         499        VUMC005  23:05     Male      90.0      Yes   \n\n                            r_treall  linr_abl  trombo_abl  lkreat_abl  ...  \\\n0       1 - Intra-arterial treatment       1.0       236.0        71.0  ...   \n1    0 - No intra-arterial treatment       2.4       236.0        89.0  ...   \n2       1 - Intra-arterial treatment       1.0       344.0        93.0  ...   \n3       1 - Intra-arterial treatment       NaN         NaN         NaN  ...   \n4    0 - No intra-arterial treatment       1.0       314.0        81.0  ...   \n..                               ...       ...         ...         ...  ...   \n495     1 - Intra-arterial treatment       1.0         NaN        72.0  ...   \n496  0 - No intra-arterial treatment       NaN       300.0        92.0  ...   \n497  0 - No intra-arterial treatment       1.0       361.0        67.0  ...   \n498     1 - Intra-arterial treatment       NaN       268.0        97.0  ...   \n499  0 - No intra-arterial treatment       1.1      1902.0        65.0  ...   \n\n     SAE_PS_1stonly  subarch  ph2 ph1  hi1  hi2 ph2_c ph1_c hi1_c hi2_c  \n0                No      NaN   No  No  NaN  NaN    No    No    No    No  \n1                No      NaN   No  No  NaN  NaN    No    No    No    No  \n2               Yes      NaN  Yes  No   No   No   Yes    No    No    No  \n3                No      NaN  Yes  No   No   No   Yes    No    No    No  \n4               Yes      NaN   No  No  NaN  NaN    No    No    No    No  \n..              ...      ...  ...  ..  ...  ...   ...   ...   ...   ...  \n495              No      NaN   No  No  NaN  NaN   Yes    No    No    No  \n496              No      NaN   No  No  NaN  NaN    No    No    No    No  \n497              No      NaN   No  No  NaN  NaN    No    No    No    No  \n498              No      NaN   No  No  NaN  NaN    No   Yes    No    No  \n499              No      NaN   No  No  NaN  NaN    No    No    No    No  \n\n[500 rows x 176 columns]",
      "text/html": "<div>\n<style scoped>\n    .dataframe tbody tr th:only-of-type {\n        vertical-align: middle;\n    }\n\n    .dataframe tbody tr th {\n        vertical-align: top;\n    }\n\n    .dataframe thead th {\n        text-align: right;\n    }\n</style>\n<table border=\"1\" class=\"dataframe\">\n  <thead>\n    <tr style=\"text-align: right;\">\n      <th></th>\n      <th>Unnamed: 0</th>\n      <th>StudySubjectID</th>\n      <th>r_time</th>\n      <th>r_gender</th>\n      <th>r_weight</th>\n      <th>r_ivtrom</th>\n      <th>r_treall</th>\n      <th>linr_abl</th>\n      <th>trombo_abl</th>\n      <th>lkreat_abl</th>\n      <th>...</th>\n      <th>SAE_PS_1stonly</th>\n      <th>subarch</th>\n      <th>ph2</th>\n      <th>ph1</th>\n      <th>hi1</th>\n      <th>hi2</th>\n      <th>ph2_c</th>\n      <th>ph1_c</th>\n      <th>hi1_c</th>\n      <th>hi2_c</th>\n    </tr>\n  </thead>\n  <tbody>\n    <tr>\n      <th>0</th>\n      <td>0</td>\n      <td>AMC001</td>\n      <td>22:13</td>\n      <td>Male</td>\n      <td>66.0</td>\n      <td>Yes</td>\n      <td>1 - Intra-arterial treatment</td>\n      <td>1.0</td>\n      <td>236.0</td>\n      <td>71.0</td>\n      <td>...</td>\n      <td>No</td>\n      <td>NaN</td>\n      <td>No</td>\n      <td>No</td>\n      <td>NaN</td>\n      <td>NaN</td>\n      <td>No</td>\n      <td>No</td>\n      <td>No</td>\n      <td>No</td>\n    </tr>\n    <tr>\n      <th>1</th>\n      <td>1</td>\n      <td>AMC002</td>\n      <td>04:59</td>\n      <td>Male</td>\n      <td>98.0</td>\n      <td>No</td>\n      <td>0 - No intra-arterial treatment</td>\n      <td>2.4</td>\n      <td>236.0</td>\n      <td>89.0</td>\n      <td>...</td>\n      <td>No</td>\n      <td>NaN</td>\n      <td>No</td>\n      <td>No</td>\n      <td>NaN</td>\n      <td>NaN</td>\n      <td>No</td>\n      <td>No</td>\n      <td>No</td>\n      <td>No</td>\n    </tr>\n    <tr>\n      <th>2</th>\n      <td>2</td>\n      <td>AMC003</td>\n      <td>05:51</td>\n      <td>Male</td>\n      <td>90.0</td>\n      <td>No</td>\n      <td>1 - Intra-arterial treatment</td>\n      <td>1.0</td>\n      <td>344.0</td>\n      <td>93.0</td>\n      <td>...</td>\n      <td>Yes</td>\n      <td>NaN</td>\n      <td>Yes</td>\n      <td>No</td>\n      <td>No</td>\n      <td>No</td>\n      <td>Yes</td>\n      <td>No</td>\n      <td>No</td>\n      <td>No</td>\n    </tr>\n    <tr>\n      <th>3</th>\n      <td>3</td>\n      <td>AMC004</td>\n      <td>01:53</td>\n      <td>Male</td>\n      <td>90.0</td>\n      <td>Yes</td>\n      <td>1 - Intra-arterial treatment</td>\n      <td>NaN</td>\n      <td>NaN</td>\n      <td>NaN</td>\n      <td>...</td>\n      <td>No</td>\n      <td>NaN</td>\n      <td>Yes</td>\n      <td>No</td>\n      <td>No</td>\n      <td>No</td>\n      <td>Yes</td>\n      <td>No</td>\n      <td>No</td>\n      <td>No</td>\n    </tr>\n    <tr>\n      <th>4</th>\n      <td>4</td>\n      <td>AMC005</td>\n      <td>15:16</td>\n      <td>Male</td>\n      <td>70.0</td>\n      <td>Yes</td>\n      <td>0 - No intra-arterial treatment</td>\n      <td>1.0</td>\n      <td>314.0</td>\n      <td>81.0</td>\n      <td>...</td>\n      <td>Yes</td>\n      <td>NaN</td>\n      <td>No</td>\n      <td>No</td>\n      <td>NaN</td>\n      <td>NaN</td>\n      <td>No</td>\n      <td>No</td>\n      <td>No</td>\n      <td>No</td>\n    </tr>\n    <tr>\n      <th>...</th>\n      <td>...</td>\n      <td>...</td>\n      <td>...</td>\n      <td>...</td>\n      <td>...</td>\n      <td>...</td>\n      <td>...</td>\n      <td>...</td>\n      <td>...</td>\n      <td>...</td>\n      <td>...</td>\n      <td>...</td>\n      <td>...</td>\n      <td>...</td>\n      <td>...</td>\n      <td>...</td>\n      <td>...</td>\n      <td>...</td>\n      <td>...</td>\n      <td>...</td>\n      <td>...</td>\n    </tr>\n    <tr>\n      <th>495</th>\n      <td>495</td>\n      <td>VUMC001</td>\n      <td>15:00</td>\n      <td>Male</td>\n      <td>92.0</td>\n      <td>Yes</td>\n      <td>1 - Intra-arterial treatment</td>\n      <td>1.0</td>\n      <td>NaN</td>\n      <td>72.0</td>\n      <td>...</td>\n      <td>No</td>\n      <td>NaN</td>\n      <td>No</td>\n      <td>No</td>\n      <td>NaN</td>\n      <td>NaN</td>\n      <td>Yes</td>\n      <td>No</td>\n      <td>No</td>\n      <td>No</td>\n    </tr>\n    <tr>\n      <th>496</th>\n      <td>496</td>\n      <td>VUMC002</td>\n      <td>16:42</td>\n      <td>Male</td>\n      <td>82.0</td>\n      <td>Yes</td>\n      <td>0 - No intra-arterial treatment</td>\n      <td>NaN</td>\n      <td>300.0</td>\n      <td>92.0</td>\n      <td>...</td>\n      <td>No</td>\n      <td>NaN</td>\n      <td>No</td>\n      <td>No</td>\n      <td>NaN</td>\n      <td>NaN</td>\n      <td>No</td>\n      <td>No</td>\n      <td>No</td>\n      <td>No</td>\n    </tr>\n    <tr>\n      <th>497</th>\n      <td>497</td>\n      <td>VUMC003</td>\n      <td>19:38</td>\n      <td>Female</td>\n      <td>67.0</td>\n      <td>No</td>\n      <td>0 - No intra-arterial treatment</td>\n      <td>1.0</td>\n      <td>361.0</td>\n      <td>67.0</td>\n      <td>...</td>\n      <td>No</td>\n      <td>NaN</td>\n      <td>No</td>\n      <td>No</td>\n      <td>NaN</td>\n      <td>NaN</td>\n      <td>No</td>\n      <td>No</td>\n      <td>No</td>\n      <td>No</td>\n    </tr>\n    <tr>\n      <th>498</th>\n      <td>498</td>\n      <td>VUMC004</td>\n      <td>18:56</td>\n      <td>Male</td>\n      <td>80.0</td>\n      <td>Yes</td>\n      <td>1 - Intra-arterial treatment</td>\n      <td>NaN</td>\n      <td>268.0</td>\n      <td>97.0</td>\n      <td>...</td>\n      <td>No</td>\n      <td>NaN</td>\n      <td>No</td>\n      <td>No</td>\n      <td>NaN</td>\n      <td>NaN</td>\n      <td>No</td>\n      <td>Yes</td>\n      <td>No</td>\n      <td>No</td>\n    </tr>\n    <tr>\n      <th>499</th>\n      <td>499</td>\n      <td>VUMC005</td>\n      <td>23:05</td>\n      <td>Male</td>\n      <td>90.0</td>\n      <td>Yes</td>\n      <td>0 - No intra-arterial treatment</td>\n      <td>1.1</td>\n      <td>1902.0</td>\n      <td>65.0</td>\n      <td>...</td>\n      <td>No</td>\n      <td>NaN</td>\n      <td>No</td>\n      <td>No</td>\n      <td>NaN</td>\n      <td>NaN</td>\n      <td>No</td>\n      <td>No</td>\n      <td>No</td>\n      <td>No</td>\n    </tr>\n  </tbody>\n</table>\n<p>500 rows × 176 columns</p>\n</div>"
     },
     "execution_count": 2,
     "metadata": {},
     "output_type": "execute_result"
    }
   ],
   "source": [
    "clinic = pd.read_csv(\"clinic.csv\")\n",
    "clinic"
   ],
   "metadata": {
    "collapsed": false,
    "pycharm": {
     "name": "#%%\n"
    }
   }
  },
  {
   "cell_type": "code",
   "execution_count": 3,
   "outputs": [],
   "source": [
    "baseline_features = [\"r_gender\", \"age\", \"r_ivtrom\", \"r_treall\", \"b_pvstr\", \"b_pvdm\", \"b_pvrr\", \"b_pvaf\", \"b_pvhc\", \"nihsco_abl_c\", \"StudySubjectID\"]\n",
    "target_feature = \"mrs_d90d_c\""
   ],
   "metadata": {
    "collapsed": false,
    "pycharm": {
     "name": "#%%\n"
    }
   }
  },
  {
   "cell_type": "markdown",
   "source": [
    "## Preprocess Y"
   ],
   "metadata": {
    "collapsed": false,
    "pycharm": {
     "name": "#%% md\n"
    }
   }
  },
  {
   "cell_type": "code",
   "execution_count": 4,
   "outputs": [
    {
     "data": {
      "text/plain": "0      mRS 3 - Moderate disability, still independent...\n1          mRS 4 - Moderately severe disability (code 2)\n2      mRS 5 - Severe disability, completely dependen...\n3      mRS 3 - Moderate disability, still independent...\n4          mRS 4 - Moderately severe disability (code 2)\n                             ...                        \n495        mRS 4 - Moderately severe disability (code 2)\n496        mRS 4 - Moderately severe disability (code 2)\n497        mRS 4 - Moderately severe disability (code 2)\n498        mRS 4 - Moderately severe disability (code 2)\n499        mRS 4 - Moderately severe disability (code 2)\nName: mrs_d90d_c, Length: 500, dtype: object"
     },
     "execution_count": 4,
     "metadata": {},
     "output_type": "execute_result"
    }
   ],
   "source": [
    "baseline_y_pre = clinic[target_feature]\n",
    "baseline_y_pre"
   ],
   "metadata": {
    "collapsed": false,
    "pycharm": {
     "name": "#%%\n"
    }
   }
  },
  {
   "cell_type": "code",
   "execution_count": 5,
   "outputs": [
    {
     "data": {
      "text/plain": "mRS 4 - Moderately severe disability (code 2)               133\nmRS 6 - Death (code 0)                                      108\nmRS 3 - Moderate disability, still independent (code 3)      87\nmRS 2 - Slight disability, no help needed (code 4)           84\nmRS 5 - Severe disability, completely dependent (code 1)     45\nmRS 1 - Minor symptoms, no limitations (code 5)              36\nmRS 0 - No symptoms (code 6)                                  7\nName: mrs_d90d_c, dtype: int64"
     },
     "execution_count": 5,
     "metadata": {},
     "output_type": "execute_result"
    }
   ],
   "source": [
    "y_pre_distribution = baseline_y_pre.value_counts()\n",
    "y_pre_distribution"
   ],
   "metadata": {
    "collapsed": false,
    "pycharm": {
     "name": "#%%\n"
    }
   }
  },
  {
   "cell_type": "code",
   "execution_count": 6,
   "outputs": [
    {
     "data": {
      "text/plain": "<Figure size 432x288 with 1 Axes>",
      "image/png": "[encoded data removed]"
     },
     "metadata": {},
     "output_type": "display_data"
    }
   ],
   "source": [
    "plt.pie(x=y_pre_distribution.values, labels=y_pre_distribution.index)\n",
    "plt.show()"
   ],
   "metadata": {
    "collapsed": false,
    "pycharm": {
     "name": "#%%\n"
    }
   }
  },
  {
   "cell_type": "code",
   "execution_count": 7,
   "outputs": [
    {
     "data": {
      "text/plain": "0      1\n1      1\n2      1\n3      1\n4      1\n      ..\n495    1\n496    1\n497    1\n498    1\n499    1\nName: mrs_d90d_c, Length: 500, dtype: int64"
     },
     "execution_count": 7,
     "metadata": {},
     "output_type": "execute_result"
    }
   ],
   "source": [
    "y_val_to_replace = {'mRS 0 - No symptoms (code 6)': 0,\n",
    "                    'mRS 1 - Minor symptoms, no limitations (code 5)': 0,\n",
    "                    'mRS 2 - Slight disability, no help needed (code 4)': 0,\n",
    "                    'mRS 3 - Moderate disability, still independent (code 3)': 1,\n",
    "                    'mRS 4 - Moderately severe disability (code 2)': 1,\n",
    "                    'mRS 5 - Severe disability, completely dependent (code 1)': 1,\n",
    "                    'mRS 6 - Death (code 0)': 1}\n",
    "y_baseline = baseline_y_pre.replace(y_val_to_replace)\n",
    "y_baseline"
   ],
   "metadata": {
    "collapsed": false,
    "pycharm": {
     "name": "#%%\n"
    }
   }
  },
  {
   "cell_type": "code",
   "execution_count": 8,
   "outputs": [
    {
     "data": {
      "text/plain": "1    373\n0    127\nName: mrs_d90d_c, dtype: int64"
     },
     "execution_count": 8,
     "metadata": {},
     "output_type": "execute_result"
    }
   ],
   "source": [
    "y_distribution = y_baseline.value_counts()\n",
    "y_distribution"
   ],
   "metadata": {
    "collapsed": false,
    "pycharm": {
     "name": "#%%\n"
    }
   }
  },
  {
   "cell_type": "code",
   "execution_count": 9,
   "outputs": [
    {
     "data": {
      "text/plain": "<Figure size 432x288 with 1 Axes>",
      "image/png": "[encoded data removed]"
     },
     "metadata": {},
     "output_type": "display_data"
    }
   ],
   "source": [
    "plt.pie(x=y_distribution.values, labels=y_distribution.index)\n",
    "plt.show()"
   ],
   "metadata": {
    "collapsed": false,
    "pycharm": {
     "name": "#%%\n"
    }
   }
  },
  {
   "cell_type": "markdown",
   "source": [
    "### Result\n",
    "\n",
    "Labels are not equal distributed. might need to balance data!"
   ],
   "metadata": {
    "collapsed": false,
    "pycharm": {
     "name": "#%% md\n"
    }
   }
  },
  {
   "cell_type": "code",
   "execution_count": 9,
   "outputs": [],
   "source": [],
   "metadata": {
    "collapsed": false,
    "pycharm": {
     "name": "#%%\n"
    }
   }
  },
  {
   "cell_type": "markdown",
   "source": [
    "## Preprocess X"
   ],
   "metadata": {
    "collapsed": false,
    "pycharm": {
     "name": "#%% md\n"
    }
   }
  },
  {
   "cell_type": "code",
   "execution_count": 10,
   "outputs": [
    {
     "data": {
      "text/plain": "    r_gender   age r_ivtrom                         r_treall b_pvstr b_pvdm  \\\n0       Male  38.0      Yes     1 - Intra-arterial treatment      No     No   \n1       Male  78.0       No  0 - No intra-arterial treatment      No     No   \n2       Male  56.0       No     1 - Intra-arterial treatment      No     No   \n3       Male  62.0      Yes     1 - Intra-arterial treatment      No     No   \n4       Male  47.0      Yes  0 - No intra-arterial treatment      No     No   \n..       ...   ...      ...                              ...     ...    ...   \n495     Male  63.0      Yes     1 - Intra-arterial treatment     Yes     No   \n496     Male  53.0      Yes  0 - No intra-arterial treatment     Yes     No   \n497   Female  52.0       No  0 - No intra-arterial treatment      No     No   \n498     Male  67.0      Yes     1 - Intra-arterial treatment      No     No   \n499     Male  57.0      Yes  0 - No intra-arterial treatment      No     No   \n\n    b_pvrr b_pvaf b_pvhc  nihsco_abl_c StudySubjectID  \n0       No     No     No          13.0         AMC001  \n1       No    Yes     No          16.0         AMC002  \n2       No    Yes     No          19.0         AMC003  \n3       No    Yes     No          20.0         AMC004  \n4       No     No     No          19.0         AMC005  \n..     ...    ...    ...           ...            ...  \n495    Yes     No     No          19.0        VUMC001  \n496    Yes     No    Yes          14.0        VUMC002  \n497     No     No     No          19.0        VUMC003  \n498     No    Yes     No          19.0        VUMC004  \n499     No     No     No          16.0        VUMC005  \n\n[500 rows x 11 columns]",
      "text/html": "<div>\n<style scoped>\n    .dataframe tbody tr th:only-of-type {\n        vertical-align: middle;\n    }\n\n    .dataframe tbody tr th {\n        vertical-align: top;\n    }\n\n    .dataframe thead th {\n        text-align: right;\n    }\n</style>\n<table border=\"1\" class=\"dataframe\">\n  <thead>\n    <tr style=\"text-align: right;\">\n      <th></th>\n      <th>r_gender</th>\n      <th>age</th>\n      <th>r_ivtrom</th>\n      <th>r_treall</th>\n      <th>b_pvstr</th>\n      <th>b_pvdm</th>\n      <th>b_pvrr</th>\n      <th>b_pvaf</th>\n      <th>b_pvhc</th>\n      <th>nihsco_abl_c</th>\n      <th>StudySubjectID</th>\n    </tr>\n  </thead>\n  <tbody>\n    <tr>\n      <th>0</th>\n      <td>Male</td>\n      <td>38.0</td>\n      <td>Yes</td>\n      <td>1 - Intra-arterial treatment</td>\n      <td>No</td>\n      <td>No</td>\n      <td>No</td>\n      <td>No</td>\n      <td>No</td>\n      <td>13.0</td>\n      <td>AMC001</td>\n    </tr>\n    <tr>\n      <th>1</th>\n      <td>Male</td>\n      <td>78.0</td>\n      <td>No</td>\n      <td>0 - No intra-arterial treatment</td>\n      <td>No</td>\n      <td>No</td>\n      <td>No</td>\n      <td>Yes</td>\n      <td>No</td>\n      <td>16.0</td>\n      <td>AMC002</td>\n    </tr>\n    <tr>\n      <th>2</th>\n      <td>Male</td>\n      <td>56.0</td>\n      <td>No</td>\n      <td>1 - Intra-arterial treatment</td>\n      <td>No</td>\n      <td>No</td>\n      <td>No</td>\n      <td>Yes</td>\n      <td>No</td>\n      <td>19.0</td>\n      <td>AMC003</td>\n    </tr>\n    <tr>\n      <th>3</th>\n      <td>Male</td>\n      <td>62.0</td>\n      <td>Yes</td>\n      <td>1 - Intra-arterial treatment</td>\n      <td>No</td>\n      <td>No</td>\n      <td>No</td>\n      <td>Yes</td>\n      <td>No</td>\n      <td>20.0</td>\n      <td>AMC004</td>\n    </tr>\n    <tr>\n      <th>4</th>\n      <td>Male</td>\n      <td>47.0</td>\n      <td>Yes</td>\n      <td>0 - No intra-arterial treatment</td>\n      <td>No</td>\n      <td>No</td>\n      <td>No</td>\n      <td>No</td>\n      <td>No</td>\n      <td>19.0</td>\n      <td>AMC005</td>\n    </tr>\n    <tr>\n      <th>...</th>\n      <td>...</td>\n      <td>...</td>\n      <td>...</td>\n      <td>...</td>\n      <td>...</td>\n      <td>...</td>\n      <td>...</td>\n      <td>...</td>\n      <td>...</td>\n      <td>...</td>\n      <td>...</td>\n    </tr>\n    <tr>\n      <th>495</th>\n      <td>Male</td>\n      <td>63.0</td>\n      <td>Yes</td>\n      <td>1 - Intra-arterial treatment</td>\n      <td>Yes</td>\n      <td>No</td>\n      <td>Yes</td>\n      <td>No</td>\n      <td>No</td>\n      <td>19.0</td>\n      <td>VUMC001</td>\n    </tr>\n    <tr>\n      <th>496</th>\n      <td>Male</td>\n      <td>53.0</td>\n      <td>Yes</td>\n      <td>0 - No intra-arterial treatment</td>\n      <td>Yes</td>\n      <td>No</td>\n      <td>Yes</td>\n      <td>No</td>\n      <td>Yes</td>\n      <td>14.0</td>\n      <td>VUMC002</td>\n    </tr>\n    <tr>\n      <th>497</th>\n      <td>Female</td>\n      <td>52.0</td>\n      <td>No</td>\n      <td>0 - No intra-arterial treatment</td>\n      <td>No</td>\n      <td>No</td>\n      <td>No</td>\n      <td>No</td>\n      <td>No</td>\n      <td>19.0</td>\n      <td>VUMC003</td>\n    </tr>\n    <tr>\n      <th>498</th>\n      <td>Male</td>\n      <td>67.0</td>\n      <td>Yes</td>\n      <td>1 - Intra-arterial treatment</td>\n      <td>No</td>\n      <td>No</td>\n      <td>No</td>\n      <td>Yes</td>\n      <td>No</td>\n      <td>19.0</td>\n      <td>VUMC004</td>\n    </tr>\n    <tr>\n      <th>499</th>\n      <td>Male</td>\n      <td>57.0</td>\n      <td>Yes</td>\n      <td>0 - No intra-arterial treatment</td>\n      <td>No</td>\n      <td>No</td>\n      <td>No</td>\n      <td>No</td>\n      <td>No</td>\n      <td>16.0</td>\n      <td>VUMC005</td>\n    </tr>\n  </tbody>\n</table>\n<p>500 rows × 11 columns</p>\n</div>"
     },
     "execution_count": 10,
     "metadata": {},
     "output_type": "execute_result"
    }
   ],
   "source": [
    "baseline_X_pre = clinic[baseline_features]\n",
    "baseline_X_pre"
   ],
   "metadata": {
    "collapsed": false,
    "pycharm": {
     "name": "#%%\n"
    }
   }
  },
  {
   "cell_type": "code",
   "execution_count": 11,
   "outputs": [
    {
     "data": {
      "text/plain": "     female   age  r_ivtrom  intra_arterial_treatment  b_pvstr  b_pvdm  \\\n0         0  38.0         1                         1        0       0   \n1         0  78.0         0                         0        0       0   \n2         0  56.0         0                         1        0       0   \n3         0  62.0         1                         1        0       0   \n4         0  47.0         1                         0        0       0   \n..      ...   ...       ...                       ...      ...     ...   \n495       0  63.0         1                         1        1       0   \n496       0  53.0         1                         0        1       0   \n497       1  52.0         0                         0        0       0   \n498       0  67.0         1                         1        0       0   \n499       0  57.0         1                         0        0       0   \n\n     b_pvrr  b_pvaf  b_pvhc  nihsco_abl_c StudySubjectID  \n0         0       0       0          13.0         AMC001  \n1         0       1       0          16.0         AMC002  \n2         0       1       0          19.0         AMC003  \n3         0       1       0          20.0         AMC004  \n4         0       0       0          19.0         AMC005  \n..      ...     ...     ...           ...            ...  \n495       1       0       0          19.0        VUMC001  \n496       1       0       1          14.0        VUMC002  \n497       0       0       0          19.0        VUMC003  \n498       0       1       0          19.0        VUMC004  \n499       0       0       0          16.0        VUMC005  \n\n[500 rows x 11 columns]",
      "text/html": "<div>\n<style scoped>\n    .dataframe tbody tr th:only-of-type {\n        vertical-align: middle;\n    }\n\n    .dataframe tbody tr th {\n        vertical-align: top;\n    }\n\n    .dataframe thead th {\n        text-align: right;\n    }\n</style>\n<table border=\"1\" class=\"dataframe\">\n  <thead>\n    <tr style=\"text-align: right;\">\n      <th></th>\n      <th>female</th>\n      <th>age</th>\n      <th>r_ivtrom</th>\n      <th>intra_arterial_treatment</th>\n      <th>b_pvstr</th>\n      <th>b_pvdm</th>\n      <th>b_pvrr</th>\n      <th>b_pvaf</th>\n      <th>b_pvhc</th>\n      <th>nihsco_abl_c</th>\n      <th>StudySubjectID</th>\n    </tr>\n  </thead>\n  <tbody>\n    <tr>\n      <th>0</th>\n      <td>0</td>\n      <td>38.0</td>\n      <td>1</td>\n      <td>1</td>\n      <td>0</td>\n      <td>0</td>\n      <td>0</td>\n      <td>0</td>\n      <td>0</td>\n      <td>13.0</td>\n      <td>AMC001</td>\n    </tr>\n    <tr>\n      <th>1</th>\n      <td>0</td>\n      <td>78.0</td>\n      <td>0</td>\n      <td>0</td>\n      <td>0</td>\n      <td>0</td>\n      <td>0</td>\n      <td>1</td>\n      <td>0</td>\n      <td>16.0</td>\n      <td>AMC002</td>\n    </tr>\n    <tr>\n      <th>2</th>\n      <td>0</td>\n      <td>56.0</td>\n      <td>0</td>\n      <td>1</td>\n      <td>0</td>\n      <td>0</td>\n      <td>0</td>\n      <td>1</td>\n      <td>0</td>\n      <td>19.0</td>\n      <td>AMC003</td>\n    </tr>\n    <tr>\n      <th>3</th>\n      <td>0</td>\n      <td>62.0</td>\n      <td>1</td>\n      <td>1</td>\n      <td>0</td>\n      <td>0</td>\n      <td>0</td>\n      <td>1</td>\n      <td>0</td>\n      <td>20.0</td>\n      <td>AMC004</td>\n    </tr>\n    <tr>\n      <th>4</th>\n      <td>0</td>\n      <td>47.0</td>\n      <td>1</td>\n      <td>0</td>\n      <td>0</td>\n      <td>0</td>\n      <td>0</td>\n      <td>0</td>\n      <td>0</td>\n      <td>19.0</td>\n      <td>AMC005</td>\n    </tr>\n    <tr>\n      <th>...</th>\n      <td>...</td>\n      <td>...</td>\n      <td>...</td>\n      <td>...</td>\n      <td>...</td>\n      <td>...</td>\n      <td>...</td>\n      <td>...</td>\n      <td>...</td>\n      <td>...</td>\n      <td>...</td>\n    </tr>\n    <tr>\n      <th>495</th>\n      <td>0</td>\n      <td>63.0</td>\n      <td>1</td>\n      <td>1</td>\n      <td>1</td>\n      <td>0</td>\n      <td>1</td>\n      <td>0</td>\n      <td>0</td>\n      <td>19.0</td>\n      <td>VUMC001</td>\n    </tr>\n    <tr>\n      <th>496</th>\n      <td>0</td>\n      <td>53.0</td>\n      <td>1</td>\n      <td>0</td>\n      <td>1</td>\n      <td>0</td>\n      <td>1</td>\n      <td>0</td>\n      <td>1</td>\n      <td>14.0</td>\n      <td>VUMC002</td>\n    </tr>\n    <tr>\n      <th>497</th>\n      <td>1</td>\n      <td>52.0</td>\n      <td>0</td>\n      <td>0</td>\n      <td>0</td>\n      <td>0</td>\n      <td>0</td>\n      <td>0</td>\n      <td>0</td>\n      <td>19.0</td>\n      <td>VUMC003</td>\n    </tr>\n    <tr>\n      <th>498</th>\n      <td>0</td>\n      <td>67.0</td>\n      <td>1</td>\n      <td>1</td>\n      <td>0</td>\n      <td>0</td>\n      <td>0</td>\n      <td>1</td>\n      <td>0</td>\n      <td>19.0</td>\n      <td>VUMC004</td>\n    </tr>\n    <tr>\n      <th>499</th>\n      <td>0</td>\n      <td>57.0</td>\n      <td>1</td>\n      <td>0</td>\n      <td>0</td>\n      <td>0</td>\n      <td>0</td>\n      <td>0</td>\n      <td>0</td>\n      <td>16.0</td>\n      <td>VUMC005</td>\n    </tr>\n  </tbody>\n</table>\n<p>500 rows × 11 columns</p>\n</div>"
     },
     "execution_count": 11,
     "metadata": {},
     "output_type": "execute_result"
    }
   ],
   "source": [
    "X_val_to_replace = {'Male' : 0,\n",
    "                    'Female' : 1,\n",
    "                    'Yes' : 1,\n",
    "                    'No' : 0,\n",
    "                    '1 - Intra-arterial treatment' : 1,\n",
    "                    '0 - No intra-arterial treatment' : 0\n",
    "                    }\n",
    "X_baseline = baseline_X_pre.replace(X_val_to_replace).rename({\"r_gender\": \"female\", 'r_treall': 'intra_arterial_treatment'}, axis=\"columns\")\n",
    "X_baseline"
   ],
   "metadata": {
    "collapsed": false,
    "pycharm": {
     "name": "#%%\n"
    }
   }
  },
  {
   "cell_type": "code",
   "execution_count": 12,
   "outputs": [
    {
     "data": {
      "text/plain": "17.598"
     },
     "execution_count": 12,
     "metadata": {},
     "output_type": "execute_result"
    }
   ],
   "source": [
    "baseline_NIHSS_mean = X_baseline[\"nihsco_abl_c\"].mean()\n",
    "baseline_age_mean = X_baseline[\"age\"].mean()\n",
    "baseline_NIHSS_mean"
   ],
   "metadata": {
    "collapsed": false,
    "pycharm": {
     "name": "#%%\n"
    }
   }
  },
  {
   "cell_type": "code",
   "execution_count": null,
   "outputs": [],
   "source": [
    "baseline_NIHSS_std = X_baseline[\"nihsco_abl_c\"].std()\n",
    "baseline_age_std = X_baseline[\"age\"].std()\n",
    "baseline_NIHSS_std"
   ],
   "metadata": {
    "collapsed": false,
    "pycharm": {
     "name": "#%%\n"
    }
   }
  },
  {
   "cell_type": "code",
   "execution_count": null,
   "outputs": [],
   "source": [
    "X_baseline[\"nihsco_abl_c\"] = (X_baseline[\"nihsco_abl_c\"] - baseline_NIHSS_mean) / baseline_NIHSS_std\n",
    "X_baseline[\"age\"] = (X_baseline[\"age\"] - baseline_age_mean) / baseline_age_std\n",
    "X_baseline"
   ],
   "metadata": {
    "collapsed": false,
    "pycharm": {
     "name": "#%%\n"
    }
   }
  },
  {
   "cell_type": "code",
   "execution_count": null,
   "outputs": [],
   "source": [
    "baseline_age_std, baseline_age_mean"
   ],
   "metadata": {
    "collapsed": false,
    "pycharm": {
     "name": "#%%\n"
    }
   }
  },
  {
   "cell_type": "code",
   "execution_count": null,
   "outputs": [],
   "source": [
    "X_baseline[\"nihsco_abl_c\"].mean()"
   ],
   "metadata": {
    "collapsed": false,
    "pycharm": {
     "name": "#%%\n"
    }
   }
  },
  {
   "cell_type": "code",
   "execution_count": null,
   "outputs": [],
   "source": [
    "baseline_dataset = pd.concat((X_baseline, y_baseline), axis=\"columns\")\n",
    "baseline_dataset"
   ],
   "metadata": {
    "collapsed": false,
    "pycharm": {
     "name": "#%%\n"
    }
   }
  },
  {
   "cell_type": "code",
   "execution_count": null,
   "outputs": [],
   "source": [
    "# set clinical center\n",
    "baseline_dataset[\"StudySubjectID\"] = baseline_dataset.StudySubjectID.apply(lambda s: s[:3])\n",
    "baseline_dataset"
   ],
   "metadata": {
    "collapsed": false,
    "pycharm": {
     "name": "#%%\n"
    }
   }
  },
  {
   "cell_type": "code",
   "execution_count": null,
   "outputs": [],
   "source": [
    "BIGGEST_CENTERS = [\"ANT\",\n",
    "     \"AMC\",\n",
    "     \"LUM\",\n",
    "     \"AZM\",\n",
    "     \"RIJ\",\n",
    "     \"MCH\"]"
   ],
   "metadata": {
    "collapsed": false,
    "pycharm": {
     "name": "#%%\n"
    }
   }
  },
  {
   "cell_type": "code",
   "execution_count": 13,
   "outputs": [
    {
     "ename": "NameError",
     "evalue": "name 'baseline_dataset' is not defined",
     "output_type": "error",
     "traceback": [
      "\u001B[0;31m---------------------------------------------------------------------------\u001B[0m",
      "\u001B[0;31mNameError\u001B[0m                                 Traceback (most recent call last)",
      "Input \u001B[0;32mIn [13]\u001B[0m, in \u001B[0;36m<cell line: 1>\u001B[0;34m()\u001B[0m\n\u001B[0;32m----> 1\u001B[0m \u001B[43mbaseline_dataset\u001B[49m[\u001B[38;5;124m\"\u001B[39m\u001B[38;5;124mStudySubjectID\u001B[39m\u001B[38;5;124m\"\u001B[39m]\u001B[38;5;241m.\u001B[39mvalue_counts()\u001B[38;5;241m.\u001B[39mindex\u001B[38;5;241m.\u001B[39mvalues\u001B[38;5;241m.\u001B[39mtolist()\n",
      "\u001B[0;31mNameError\u001B[0m: name 'baseline_dataset' is not defined"
     ]
    }
   ],
   "source": [
    "baseline_dataset[\"StudySubjectID\"].value_counts().index.values.tolist()"
   ],
   "metadata": {
    "collapsed": false,
    "pycharm": {
     "name": "#%%\n"
    }
   }
  },
  {
   "cell_type": "code",
   "execution_count": null,
   "outputs": [],
   "source": [
    "def keep_only_centers(df: pd.DataFrame, centers: list[str]) -> pd.DataFrame:\n",
    "    return df[df[\"StudySubjectID\"].isin(centers)]"
   ],
   "metadata": {
    "collapsed": false,
    "pycharm": {
     "name": "#%%\n"
    }
   }
  },
  {
   "cell_type": "code",
   "execution_count": null,
   "outputs": [],
   "source": [
    "TRAIN_RATIO = 0.75\n",
    "VAL_RATIO = 0.0\n",
    "TEST_RATIO = 0.25\n",
    "\n",
    "# TRAIN_RATIO = 0.65\n",
    "# VAL_RATIO = 0.15\n",
    "# TEST_RATIO = 0.20\n",
    "\n",
    "def split_df_centers(df: pd.DataFrame):\n",
    "\n",
    "    all_train_sets_org = []\n",
    "    all_val_sets_org = []\n",
    "    all_test_sets_org = []\n",
    "\n",
    "    all_train_sets_norm = []\n",
    "    all_val_sets_norm = []\n",
    "    all_test_sets_norm = []\n",
    "\n",
    "    for center in df[\"StudySubjectID\"].value_counts().index.values.tolist():\n",
    "\n",
    "        df_center = df[df[\"StudySubjectID\"] == center]\n",
    "\n",
    "        X_center = df_center.iloc[:,:-1]\n",
    "        y_center = df_center.iloc[:,-1]\n",
    "\n",
    "        X_train_center, X_test_temp_center, y_train_center, y_test_temp_center = train_test_split(X_center, y_center, test_size=1-TRAIN_RATIO)\n",
    "\n",
    "        X_val_center, X_test_center, y_val_center, y_test_center = train_test_split(X_test_temp_center, y_test_temp_center, test_size=TEST_RATIO/(TEST_RATIO + VAL_RATIO))\n",
    "\n",
    "        #save DFs before normalisation\n",
    "        train_concat_org = pd.concat((X_train_center, y_train_center), axis=\"columns\")\n",
    "        val_concat_org = pd.concat((X_val_center, y_val_center), axis=\"columns\")\n",
    "        test_concat_org = pd.concat((X_test_center, y_test_center), axis=\"columns\")\n",
    "\n",
    "        train_concat_org.to_csv(f\"./datasets/train_org_{center}.csv\", index=False)\n",
    "        val_concat_org.to_csv(f\"./datasets/val_org_{center}.csv\", index=False)\n",
    "        test_concat_org.to_csv(f\"./datasets/test_org_{center}.csv\", index=False)\n",
    "\n",
    "        all_train_sets_org.append(train_concat_org)\n",
    "        all_val_sets_org.append(val_concat_org)\n",
    "        all_test_sets_org.append(test_concat_org)\n",
    "\n",
    "\n",
    "\n",
    "        # calculate normalisation\n",
    "        NIHSS_mean_center = X_train_center[\"nihsco_abl_c\"].mean()\n",
    "        age_mean_center = X_train_center[\"age\"].mean()\n",
    "\n",
    "        NIHSS_std_center = X_train_center[\"nihsco_abl_c\"].std()\n",
    "        age_std_center = X_train_center[\"age\"].std()\n",
    "\n",
    "        X_train_center[\"nihsco_abl_c\"] = (X_train_center[\"nihsco_abl_c\"] - NIHSS_mean_center) / NIHSS_std_center\n",
    "        X_train_center[\"age\"] = (X_train_center[\"age\"] - age_mean_center) / age_std_center\n",
    "\n",
    "        X_val_center[\"nihsco_abl_c\"] = (X_val_center[\"nihsco_abl_c\"] - NIHSS_mean_center) / NIHSS_std_center\n",
    "        X_val_center[\"age\"] = (X_val_center[\"age\"] - age_mean_center) / age_std_center\n",
    "\n",
    "        X_test_center[\"nihsco_abl_c\"] = (X_test_center[\"nihsco_abl_c\"] - NIHSS_mean_center) / NIHSS_std_center\n",
    "        X_test_center[\"age\"] = (X_test_center[\"age\"] - age_mean_center) / age_std_center\n",
    "\n",
    "        #save DFs before normalisation\n",
    "        train_concat_norm = pd.concat((X_train_center, y_train_center), axis=\"columns\")\n",
    "        val_concat_norm = pd.concat((X_val_center, y_val_center), axis=\"columns\")\n",
    "        test_concat_norm = pd.concat((X_test_center, y_test_center), axis=\"columns\")\n",
    "\n",
    "        train_concat_norm.to_csv(f\"./datasets/train_norm_{center}.csv\", index=False)\n",
    "        val_concat_norm.to_csv(f\"./datasets/val_norm_{center}.csv\", index=False)\n",
    "        test_concat_norm.to_csv(f\"./datasets/test_norm_{center}.csv\", index=False)\n",
    "\n",
    "        all_train_sets_norm.append(train_concat_norm)\n",
    "        all_val_sets_norm.append(val_concat_norm)\n",
    "        all_test_sets_norm.append(test_concat_norm)\n",
    "\n",
    "\n",
    "\n",
    "    pd.concat(all_train_sets_org).to_csv(f\"./datasets/train_org_full.csv\", index=False)\n",
    "    pd.concat(all_train_sets_norm).to_csv(f\"./datasets/train_norm_full.csv\", index=False)\n",
    "\n",
    "    pd.concat(all_val_sets_org).to_csv(f\"./datasets/val_org_full.csv\", index=False)\n",
    "    pd.concat(all_val_sets_norm).to_csv(f\"./datasets/val_norm_full.csv\", index=False)\n",
    "\n",
    "    pd.concat(all_test_sets_org).to_csv(f\"./datasets/test_org_full.csv\", index=False)\n",
    "    pd.concat(all_test_sets_norm).to_csv(f\"./datasets/test_norm_full.csv\", index=False)\n",
    "\n",
    "\n"
   ],
   "metadata": {
    "collapsed": false,
    "pycharm": {
     "name": "#%%\n"
    }
   }
  },
  {
   "cell_type": "code",
   "execution_count": null,
   "outputs": [],
   "source": [
    "reduced = keep_only_centers(baseline_dataset, BIGGEST_CENTERS)\n",
    "reduced"
   ],
   "metadata": {
    "collapsed": false,
    "pycharm": {
     "name": "#%%\n"
    }
   }
  },
  {
   "cell_type": "code",
   "execution_count": null,
   "outputs": [],
   "source": [
    "split_df_centers(reduced)"
   ],
   "metadata": {
    "collapsed": false,
    "pycharm": {
     "name": "#%%\n"
    }
   }
  },
  {
   "cell_type": "code",
   "execution_count": null,
   "outputs": [],
   "source": [
    "baseline_dataset.to_csv(\"./clinic_federated_preprocessed_without_normalisation.csv\", index=False)"
   ],
   "metadata": {
    "collapsed": false,
    "pycharm": {
     "name": "#%%\n"
    }
   }
  },
  {
   "cell_type": "code",
   "execution_count": null,
   "outputs": [],
   "source": [
    "train_ratio = 0.65\n",
    "validation_ratio = 0.15\n",
    "test_ratio = 0.20\n",
    "\n",
    "x_full = baseline_dataset.iloc[:,:-1]\n",
    "y_full = baseline_dataset.iloc[:,-1]\n",
    "\n",
    "# train is now 65% of the entire data set\n",
    "X_train, x_test_temp, y_train, y_test_temp = train_test_split(x_full, y_full, test_size=1 - train_ratio)\n",
    "\n",
    "# test is now 20% of the initial data set\n",
    "# validation is now 15% of the initial data set\n",
    "X_val, X_test, y_val, y_test = train_test_split(x_test_temp, y_test_temp, test_size=test_ratio/(test_ratio + validation_ratio))\n",
    "\n",
    "X_train.shape, X_val.shape, X_test.shape"
   ],
   "metadata": {
    "collapsed": false,
    "pycharm": {
     "name": "#%%\n"
    }
   }
  },
  {
   "cell_type": "code",
   "execution_count": null,
   "outputs": [],
   "source": [
    "X_train.StudySubjectID.value_counts()"
   ],
   "metadata": {
    "collapsed": false,
    "pycharm": {
     "name": "#%%\n"
    }
   }
  },
  {
   "cell_type": "code",
   "execution_count": null,
   "outputs": [],
   "source": [
    "pd.concat((X_train, y_train), axis=\"columns\").to_csv(\"./clinic_fed_train.csv\")"
   ],
   "metadata": {
    "collapsed": false,
    "pycharm": {
     "name": "#%%\n"
    }
   }
  },
  {
   "cell_type": "code",
   "execution_count": null,
   "outputs": [],
   "source": [
    "pd.concat((X_val, y_val), axis=\"columns\").to_csv(\"./clinic_fed_val.csv\")\n",
    "pd.concat((X_test, y_test), axis=\"columns\").to_csv(\"./clinic_fed_test.csv\")"
   ],
   "metadata": {
    "collapsed": false,
    "pycharm": {
     "name": "#%%\n"
    }
   }
  },
  {
   "cell_type": "code",
   "execution_count": null,
   "outputs": [],
   "source": [
    "baseline_dataset.drop(\"StudySubjectID\", axis=\"columns\").to_csv(\"./baseline_dataset_medium_in_one.csv\", index=False)"
   ],
   "metadata": {
    "collapsed": false,
    "pycharm": {
     "name": "#%%\n"
    }
   }
  },
  {
   "cell_type": "code",
   "execution_count": null,
   "outputs": [],
   "source": [
    "baseline_dataset.to_pickle(\"./baseline_dataset.pkl\", protocol=4)"
   ],
   "metadata": {
    "collapsed": false,
    "pycharm": {
     "name": "#%%\n"
    }
   }
  },
  {
   "cell_type": "code",
   "execution_count": null,
   "outputs": [],
   "source": [
    "pd.concat((X_baseline, y_baseline), axis=\"columns\").drop(\"StudySubjectID\", axis=\"columns\").to_csv(\"./baseline_dataset_three_cat.csv\", index=False) #without normalisation"
   ],
   "metadata": {
    "collapsed": false,
    "pycharm": {
     "name": "#%%\n"
    }
   }
  },
  {
   "cell_type": "code",
   "execution_count": null,
   "outputs": [],
   "source": [],
   "metadata": {
    "collapsed": false,
    "pycharm": {
     "name": "#%%\n"
    }
   }
  },
  {
   "cell_type": "code",
   "execution_count": null,
   "outputs": [],
   "source": [
    "# plot y per center\n",
    "# -> bias?\n"
   ],
   "metadata": {
    "collapsed": false,
    "pycharm": {
     "name": "#%%\n"
    }
   }
  },
  {
   "cell_type": "code",
   "execution_count": null,
   "outputs": [],
   "source": [
    "plt.pie(x=y_pre_distribution.values, labels=y_pre_distribution.index)\n",
    "plt.show()"
   ],
   "metadata": {
    "collapsed": false,
    "pycharm": {
     "name": "#%%\n"
    }
   }
  },
  {
   "cell_type": "code",
   "execution_count": null,
   "outputs": [],
   "source": [
    "baseline_dataset.iloc[:, :-2]"
   ],
   "metadata": {
    "collapsed": false,
    "pycharm": {
     "name": "#%%\n"
    }
   }
  },
  {
   "cell_type": "code",
   "execution_count": null,
   "outputs": [],
   "source": [
    "baseline_dataset"
   ],
   "metadata": {
    "collapsed": false,
    "pycharm": {
     "name": "#%%\n"
    }
   }
  },
  {
   "cell_type": "code",
   "execution_count": null,
   "outputs": [],
   "source": [
    "age = baseline_dataset.age\n",
    "age"
   ],
   "metadata": {
    "collapsed": false,
    "pycharm": {
     "name": "#%%\n"
    }
   }
  },
  {
   "cell_type": "code",
   "execution_count": null,
   "outputs": [],
   "source": [
    "plt.scatter(age, baseline_dataset.mrs_d90d_c)\n",
    "plt.show()"
   ],
   "metadata": {
    "collapsed": false,
    "pycharm": {
     "name": "#%%\n"
    }
   }
  },
  {
   "cell_type": "code",
   "execution_count": null,
   "outputs": [],
   "source": [
    "print(baseline_dataset[[\"age\", \"mrs_d90d_c\"]].corr().iloc[0,-1])"
   ],
   "metadata": {
    "collapsed": false,
    "pycharm": {
     "name": "#%%\n"
    }
   }
  },
  {
   "cell_type": "code",
   "execution_count": 14,
   "outputs": [
    {
     "ename": "NameError",
     "evalue": "name 'baseline_dataset' is not defined",
     "output_type": "error",
     "traceback": [
      "\u001B[0;31m---------------------------------------------------------------------------\u001B[0m",
      "\u001B[0;31mNameError\u001B[0m                                 Traceback (most recent call last)",
      "Input \u001B[0;32mIn [14]\u001B[0m, in \u001B[0;36m<cell line: 1>\u001B[0;34m()\u001B[0m\n\u001B[0;32m----> 1\u001B[0m \u001B[43mbaseline_dataset\u001B[49m[[\u001B[38;5;124m\"\u001B[39m\u001B[38;5;124mage\u001B[39m\u001B[38;5;124m\"\u001B[39m, \u001B[38;5;124m\"\u001B[39m\u001B[38;5;124mmrs_d90d_c\u001B[39m\u001B[38;5;124m\"\u001B[39m]]\u001B[38;5;241m.\u001B[39mcorr()\n",
      "\u001B[0;31mNameError\u001B[0m: name 'baseline_dataset' is not defined"
     ]
    }
   ],
   "source": [
    "baseline_dataset[[\"age\", \"mrs_d90d_c\"]].corr()"
   ],
   "metadata": {
    "collapsed": false,
    "pycharm": {
     "name": "#%%\n"
    }
   }
  },
  {
   "cell_type": "code",
   "execution_count": 15,
   "outputs": [],
   "source": [
    "import numpy as np"
   ],
   "metadata": {
    "collapsed": false,
    "pycharm": {
     "name": "#%%\n"
    }
   }
  },
  {
   "cell_type": "code",
   "execution_count": 16,
   "outputs": [
    {
     "data": {
      "text/plain": "    r_gender   age r_ivtrom                         r_treall b_pvstr b_pvdm  \\\n0       Male  38.0      Yes     1 - Intra-arterial treatment      No     No   \n1       Male  78.0       No  0 - No intra-arterial treatment      No     No   \n2       Male  56.0       No     1 - Intra-arterial treatment      No     No   \n3       Male  62.0      Yes     1 - Intra-arterial treatment      No     No   \n4       Male  47.0      Yes  0 - No intra-arterial treatment      No     No   \n..       ...   ...      ...                              ...     ...    ...   \n495     Male  63.0      Yes     1 - Intra-arterial treatment     Yes     No   \n496     Male  53.0      Yes  0 - No intra-arterial treatment     Yes     No   \n497   Female  52.0       No  0 - No intra-arterial treatment      No     No   \n498     Male  67.0      Yes     1 - Intra-arterial treatment      No     No   \n499     Male  57.0      Yes  0 - No intra-arterial treatment      No     No   \n\n    b_pvrr b_pvaf b_pvhc  nihsco_abl_c StudySubjectID  \n0       No     No     No          13.0         AMC001  \n1       No    Yes     No          16.0         AMC002  \n2       No    Yes     No          19.0         AMC003  \n3       No    Yes     No          20.0         AMC004  \n4       No     No     No          19.0         AMC005  \n..     ...    ...    ...           ...            ...  \n495    Yes     No     No          19.0        VUMC001  \n496    Yes     No    Yes          14.0        VUMC002  \n497     No     No     No          19.0        VUMC003  \n498     No    Yes     No          19.0        VUMC004  \n499     No     No     No          16.0        VUMC005  \n\n[500 rows x 11 columns]",
      "text/html": "<div>\n<style scoped>\n    .dataframe tbody tr th:only-of-type {\n        vertical-align: middle;\n    }\n\n    .dataframe tbody tr th {\n        vertical-align: top;\n    }\n\n    .dataframe thead th {\n        text-align: right;\n    }\n</style>\n<table border=\"1\" class=\"dataframe\">\n  <thead>\n    <tr style=\"text-align: right;\">\n      <th></th>\n      <th>r_gender</th>\n      <th>age</th>\n      <th>r_ivtrom</th>\n      <th>r_treall</th>\n      <th>b_pvstr</th>\n      <th>b_pvdm</th>\n      <th>b_pvrr</th>\n      <th>b_pvaf</th>\n      <th>b_pvhc</th>\n      <th>nihsco_abl_c</th>\n      <th>StudySubjectID</th>\n    </tr>\n  </thead>\n  <tbody>\n    <tr>\n      <th>0</th>\n      <td>Male</td>\n      <td>38.0</td>\n      <td>Yes</td>\n      <td>1 - Intra-arterial treatment</td>\n      <td>No</td>\n      <td>No</td>\n      <td>No</td>\n      <td>No</td>\n      <td>No</td>\n      <td>13.0</td>\n      <td>AMC001</td>\n    </tr>\n    <tr>\n      <th>1</th>\n      <td>Male</td>\n      <td>78.0</td>\n      <td>No</td>\n      <td>0 - No intra-arterial treatment</td>\n      <td>No</td>\n      <td>No</td>\n      <td>No</td>\n      <td>Yes</td>\n      <td>No</td>\n      <td>16.0</td>\n      <td>AMC002</td>\n    </tr>\n    <tr>\n      <th>2</th>\n      <td>Male</td>\n      <td>56.0</td>\n      <td>No</td>\n      <td>1 - Intra-arterial treatment</td>\n      <td>No</td>\n      <td>No</td>\n      <td>No</td>\n      <td>Yes</td>\n      <td>No</td>\n      <td>19.0</td>\n      <td>AMC003</td>\n    </tr>\n    <tr>\n      <th>3</th>\n      <td>Male</td>\n      <td>62.0</td>\n      <td>Yes</td>\n      <td>1 - Intra-arterial treatment</td>\n      <td>No</td>\n      <td>No</td>\n      <td>No</td>\n      <td>Yes</td>\n      <td>No</td>\n      <td>20.0</td>\n      <td>AMC004</td>\n    </tr>\n    <tr>\n      <th>4</th>\n      <td>Male</td>\n      <td>47.0</td>\n      <td>Yes</td>\n      <td>0 - No intra-arterial treatment</td>\n      <td>No</td>\n      <td>No</td>\n      <td>No</td>\n      <td>No</td>\n      <td>No</td>\n      <td>19.0</td>\n      <td>AMC005</td>\n    </tr>\n    <tr>\n      <th>...</th>\n      <td>...</td>\n      <td>...</td>\n      <td>...</td>\n      <td>...</td>\n      <td>...</td>\n      <td>...</td>\n      <td>...</td>\n      <td>...</td>\n      <td>...</td>\n      <td>...</td>\n      <td>...</td>\n    </tr>\n    <tr>\n      <th>495</th>\n      <td>Male</td>\n      <td>63.0</td>\n      <td>Yes</td>\n      <td>1 - Intra-arterial treatment</td>\n      <td>Yes</td>\n      <td>No</td>\n      <td>Yes</td>\n      <td>No</td>\n      <td>No</td>\n      <td>19.0</td>\n      <td>VUMC001</td>\n    </tr>\n    <tr>\n      <th>496</th>\n      <td>Male</td>\n      <td>53.0</td>\n      <td>Yes</td>\n      <td>0 - No intra-arterial treatment</td>\n      <td>Yes</td>\n      <td>No</td>\n      <td>Yes</td>\n      <td>No</td>\n      <td>Yes</td>\n      <td>14.0</td>\n      <td>VUMC002</td>\n    </tr>\n    <tr>\n      <th>497</th>\n      <td>Female</td>\n      <td>52.0</td>\n      <td>No</td>\n      <td>0 - No intra-arterial treatment</td>\n      <td>No</td>\n      <td>No</td>\n      <td>No</td>\n      <td>No</td>\n      <td>No</td>\n      <td>19.0</td>\n      <td>VUMC003</td>\n    </tr>\n    <tr>\n      <th>498</th>\n      <td>Male</td>\n      <td>67.0</td>\n      <td>Yes</td>\n      <td>1 - Intra-arterial treatment</td>\n      <td>No</td>\n      <td>No</td>\n      <td>No</td>\n      <td>Yes</td>\n      <td>No</td>\n      <td>19.0</td>\n      <td>VUMC004</td>\n    </tr>\n    <tr>\n      <th>499</th>\n      <td>Male</td>\n      <td>57.0</td>\n      <td>Yes</td>\n      <td>0 - No intra-arterial treatment</td>\n      <td>No</td>\n      <td>No</td>\n      <td>No</td>\n      <td>No</td>\n      <td>No</td>\n      <td>16.0</td>\n      <td>VUMC005</td>\n    </tr>\n  </tbody>\n</table>\n<p>500 rows × 11 columns</p>\n</div>"
     },
     "execution_count": 16,
     "metadata": {},
     "output_type": "execute_result"
    }
   ],
   "source": [
    "baseline_X_pre"
   ],
   "metadata": {
    "collapsed": false,
    "pycharm": {
     "name": "#%%\n"
    }
   }
  },
  {
   "cell_type": "code",
   "execution_count": 17,
   "outputs": [
    {
     "data": {
      "text/plain": "[    r_gender   age r_ivtrom                         r_treall b_pvstr b_pvdm  \\\n 0       Male  38.0      Yes     1 - Intra-arterial treatment      No     No   \n 1       Male  78.0       No  0 - No intra-arterial treatment      No     No   \n 2       Male  56.0       No     1 - Intra-arterial treatment      No     No   \n 3       Male  62.0      Yes     1 - Intra-arterial treatment      No     No   \n 4       Male  47.0      Yes  0 - No intra-arterial treatment      No     No   \n ..       ...   ...      ...                              ...     ...    ...   \n 162     Male  54.0      Yes  0 - No intra-arterial treatment      No     No   \n 163   Female  53.0      Yes     1 - Intra-arterial treatment      No     No   \n 164     Male  72.0      Yes  0 - No intra-arterial treatment     Yes     No   \n 165   Female  68.0      Yes     1 - Intra-arterial treatment     Yes     No   \n 166   Female  76.0      Yes     1 - Intra-arterial treatment     Yes     No   \n \n     b_pvrr b_pvaf b_pvhc  nihsco_abl_c StudySubjectID  \n 0       No     No     No          13.0         AMC001  \n 1       No    Yes     No          16.0         AMC002  \n 2       No    Yes     No          19.0         AMC003  \n 3       No    Yes     No          20.0         AMC004  \n 4       No     No     No          19.0         AMC005  \n ..     ...    ...    ...           ...            ...  \n 162     No     No     No          17.0         AZM013  \n 163    Yes     No    Yes          16.0         AZM014  \n 164    Yes     No    Yes          23.0         AZM015  \n 165    Yes    Yes     No          13.0         AZM016  \n 166    Yes    Yes    Yes          13.0         AZM017  \n \n [167 rows x 11 columns],\n     r_gender   age r_ivtrom                         r_treall b_pvstr b_pvdm  \\\n 167     Male  77.0       No     1 - Intra-arterial treatment     Yes     No   \n 168   Female  89.0      Yes  0 - No intra-arterial treatment      No     No   \n 169   Female  72.0      Yes     1 - Intra-arterial treatment      No     No   \n 170     Male  61.0      Yes  0 - No intra-arterial treatment      No     No   \n 171     Male  80.0      Yes  0 - No intra-arterial treatment      No     No   \n ..       ...   ...      ...                              ...     ...    ...   \n 329     Male  54.0      Yes  0 - No intra-arterial treatment      No     No   \n 330     Male  83.0      Yes  0 - No intra-arterial treatment      No     No   \n 331   Female  75.0      Yes  0 - No intra-arterial treatment      No     No   \n 332   Female  66.0      Yes     1 - Intra-arterial treatment      No     No   \n 333   Female  57.0      Yes     1 - Intra-arterial treatment      No     No   \n \n     b_pvrr b_pvaf b_pvhc  nihsco_abl_c StudySubjectID  \n 167    Yes    Yes     No          13.0         AZM018  \n 168    Yes    Yes    Yes          16.0         AZM019  \n 169    Yes    Yes     No          16.0         AZM020  \n 170    Yes     No    Yes          18.0         AZM021  \n 171    Yes     No     No          19.0         AZM022  \n ..     ...    ...    ...           ...            ...  \n 329     No     No     No           8.0        LUMC045  \n 330    Yes     No     No          24.0        LUMC046  \n 331    Yes     No    Yes          25.0        LUMC047  \n 332     No     No     No          18.0        LUMC048  \n 333    Yes    Yes     No          11.0        LUMC049  \n \n [167 rows x 11 columns],\n     r_gender   age r_ivtrom                         r_treall b_pvstr b_pvdm  \\\n 334   Female  58.0      Yes  0 - No intra-arterial treatment      No     No   \n 335   Female  86.0      Yes  0 - No intra-arterial treatment     Yes     No   \n 336   Female  76.0      Yes     1 - Intra-arterial treatment      No     No   \n 337   Female  77.0      Yes     1 - Intra-arterial treatment      No     No   \n 338     Male  84.0      Yes  0 - No intra-arterial treatment      No     No   \n ..       ...   ...      ...                              ...     ...    ...   \n 495     Male  63.0      Yes     1 - Intra-arterial treatment     Yes     No   \n 496     Male  53.0      Yes  0 - No intra-arterial treatment     Yes     No   \n 497   Female  52.0       No  0 - No intra-arterial treatment      No     No   \n 498     Male  67.0      Yes     1 - Intra-arterial treatment      No     No   \n 499     Male  57.0      Yes  0 - No intra-arterial treatment      No     No   \n \n     b_pvrr b_pvaf b_pvhc  nihsco_abl_c StudySubjectID  \n 334     No     No     No          22.0        LUMC050  \n 335    Yes    Yes    Yes          10.0        LUMC051  \n 336    Yes     No    Yes          19.0        LUMC052  \n 337     No    Yes     No          17.0        LUMC053  \n 338    Yes    Yes     No          16.0        LUMC054  \n ..     ...    ...    ...           ...            ...  \n 495    Yes     No     No          19.0        VUMC001  \n 496    Yes     No    Yes          14.0        VUMC002  \n 497     No     No     No          19.0        VUMC003  \n 498     No    Yes     No          19.0        VUMC004  \n 499     No     No     No          16.0        VUMC005  \n \n [166 rows x 11 columns]]"
     },
     "execution_count": 17,
     "metadata": {},
     "output_type": "execute_result"
    }
   ],
   "source": [
    "np.array_split(baseline_X_pre, 3)"
   ],
   "metadata": {
    "collapsed": false,
    "pycharm": {
     "name": "#%%\n"
    }
   }
  },
  {
   "cell_type": "code",
   "execution_count": 18,
   "outputs": [
    {
     "data": {
      "text/plain": "    r_gender   age r_ivtrom                         r_treall b_pvstr b_pvdm  \\\n3       Male  62.0      Yes     1 - Intra-arterial treatment      No     No   \n4       Male  47.0      Yes  0 - No intra-arterial treatment      No     No   \n5     Female  66.0      Yes  0 - No intra-arterial treatment      No     No   \n6     Female  42.0      Yes     1 - Intra-arterial treatment      No     No   \n7       Male  77.0      Yes  0 - No intra-arterial treatment      No     No   \n..       ...   ...      ...                              ...     ...    ...   \n495     Male  63.0      Yes     1 - Intra-arterial treatment     Yes     No   \n496     Male  53.0      Yes  0 - No intra-arterial treatment     Yes     No   \n497   Female  52.0       No  0 - No intra-arterial treatment      No     No   \n498     Male  67.0      Yes     1 - Intra-arterial treatment      No     No   \n499     Male  57.0      Yes  0 - No intra-arterial treatment      No     No   \n\n    b_pvrr b_pvaf b_pvhc  nihsco_abl_c StudySubjectID  \n3       No    Yes     No          20.0         AMC004  \n4       No     No     No          19.0         AMC005  \n5      Yes    Yes    Yes          24.0         AMC006  \n6       No     No     No          28.0         AMC007  \n7      Yes     No     No          10.0         AMC008  \n..     ...    ...    ...           ...            ...  \n495    Yes     No     No          19.0        VUMC001  \n496    Yes     No    Yes          14.0        VUMC002  \n497     No     No     No          19.0        VUMC003  \n498     No    Yes     No          19.0        VUMC004  \n499     No     No     No          16.0        VUMC005  \n\n[497 rows x 11 columns]",
      "text/html": "<div>\n<style scoped>\n    .dataframe tbody tr th:only-of-type {\n        vertical-align: middle;\n    }\n\n    .dataframe tbody tr th {\n        vertical-align: top;\n    }\n\n    .dataframe thead th {\n        text-align: right;\n    }\n</style>\n<table border=\"1\" class=\"dataframe\">\n  <thead>\n    <tr style=\"text-align: right;\">\n      <th></th>\n      <th>r_gender</th>\n      <th>age</th>\n      <th>r_ivtrom</th>\n      <th>r_treall</th>\n      <th>b_pvstr</th>\n      <th>b_pvdm</th>\n      <th>b_pvrr</th>\n      <th>b_pvaf</th>\n      <th>b_pvhc</th>\n      <th>nihsco_abl_c</th>\n      <th>StudySubjectID</th>\n    </tr>\n  </thead>\n  <tbody>\n    <tr>\n      <th>3</th>\n      <td>Male</td>\n      <td>62.0</td>\n      <td>Yes</td>\n      <td>1 - Intra-arterial treatment</td>\n      <td>No</td>\n      <td>No</td>\n      <td>No</td>\n      <td>Yes</td>\n      <td>No</td>\n      <td>20.0</td>\n      <td>AMC004</td>\n    </tr>\n    <tr>\n      <th>4</th>\n      <td>Male</td>\n      <td>47.0</td>\n      <td>Yes</td>\n      <td>0 - No intra-arterial treatment</td>\n      <td>No</td>\n      <td>No</td>\n      <td>No</td>\n      <td>No</td>\n      <td>No</td>\n      <td>19.0</td>\n      <td>AMC005</td>\n    </tr>\n    <tr>\n      <th>5</th>\n      <td>Female</td>\n      <td>66.0</td>\n      <td>Yes</td>\n      <td>0 - No intra-arterial treatment</td>\n      <td>No</td>\n      <td>No</td>\n      <td>Yes</td>\n      <td>Yes</td>\n      <td>Yes</td>\n      <td>24.0</td>\n      <td>AMC006</td>\n    </tr>\n    <tr>\n      <th>6</th>\n      <td>Female</td>\n      <td>42.0</td>\n      <td>Yes</td>\n      <td>1 - Intra-arterial treatment</td>\n      <td>No</td>\n      <td>No</td>\n      <td>No</td>\n      <td>No</td>\n      <td>No</td>\n      <td>28.0</td>\n      <td>AMC007</td>\n    </tr>\n    <tr>\n      <th>7</th>\n      <td>Male</td>\n      <td>77.0</td>\n      <td>Yes</td>\n      <td>0 - No intra-arterial treatment</td>\n      <td>No</td>\n      <td>No</td>\n      <td>Yes</td>\n      <td>No</td>\n      <td>No</td>\n      <td>10.0</td>\n      <td>AMC008</td>\n    </tr>\n    <tr>\n      <th>...</th>\n      <td>...</td>\n      <td>...</td>\n      <td>...</td>\n      <td>...</td>\n      <td>...</td>\n      <td>...</td>\n      <td>...</td>\n      <td>...</td>\n      <td>...</td>\n      <td>...</td>\n      <td>...</td>\n    </tr>\n    <tr>\n      <th>495</th>\n      <td>Male</td>\n      <td>63.0</td>\n      <td>Yes</td>\n      <td>1 - Intra-arterial treatment</td>\n      <td>Yes</td>\n      <td>No</td>\n      <td>Yes</td>\n      <td>No</td>\n      <td>No</td>\n      <td>19.0</td>\n      <td>VUMC001</td>\n    </tr>\n    <tr>\n      <th>496</th>\n      <td>Male</td>\n      <td>53.0</td>\n      <td>Yes</td>\n      <td>0 - No intra-arterial treatment</td>\n      <td>Yes</td>\n      <td>No</td>\n      <td>Yes</td>\n      <td>No</td>\n      <td>Yes</td>\n      <td>14.0</td>\n      <td>VUMC002</td>\n    </tr>\n    <tr>\n      <th>497</th>\n      <td>Female</td>\n      <td>52.0</td>\n      <td>No</td>\n      <td>0 - No intra-arterial treatment</td>\n      <td>No</td>\n      <td>No</td>\n      <td>No</td>\n      <td>No</td>\n      <td>No</td>\n      <td>19.0</td>\n      <td>VUMC003</td>\n    </tr>\n    <tr>\n      <th>498</th>\n      <td>Male</td>\n      <td>67.0</td>\n      <td>Yes</td>\n      <td>1 - Intra-arterial treatment</td>\n      <td>No</td>\n      <td>No</td>\n      <td>No</td>\n      <td>Yes</td>\n      <td>No</td>\n      <td>19.0</td>\n      <td>VUMC004</td>\n    </tr>\n    <tr>\n      <th>499</th>\n      <td>Male</td>\n      <td>57.0</td>\n      <td>Yes</td>\n      <td>0 - No intra-arterial treatment</td>\n      <td>No</td>\n      <td>No</td>\n      <td>No</td>\n      <td>No</td>\n      <td>No</td>\n      <td>16.0</td>\n      <td>VUMC005</td>\n    </tr>\n  </tbody>\n</table>\n<p>497 rows × 11 columns</p>\n</div>"
     },
     "execution_count": 18,
     "metadata": {},
     "output_type": "execute_result"
    }
   ],
   "source": [
    "baseline_X_pre.iloc[3:, :]"
   ],
   "metadata": {
    "collapsed": false,
    "pycharm": {
     "name": "#%%\n"
    }
   }
  },
  {
   "cell_type": "code",
   "execution_count": 19,
   "outputs": [
    {
     "data": {
      "text/plain": "  r_gender   age r_ivtrom                         r_treall b_pvstr b_pvdm  \\\n0     Male  38.0      Yes     1 - Intra-arterial treatment      No     No   \n1     Male  78.0       No  0 - No intra-arterial treatment      No     No   \n2     Male  56.0       No     1 - Intra-arterial treatment      No     No   \n\n  b_pvrr b_pvaf b_pvhc  nihsco_abl_c StudySubjectID  \n0     No     No     No          13.0         AMC001  \n1     No    Yes     No          16.0         AMC002  \n2     No    Yes     No          19.0         AMC003  ",
      "text/html": "<div>\n<style scoped>\n    .dataframe tbody tr th:only-of-type {\n        vertical-align: middle;\n    }\n\n    .dataframe tbody tr th {\n        vertical-align: top;\n    }\n\n    .dataframe thead th {\n        text-align: right;\n    }\n</style>\n<table border=\"1\" class=\"dataframe\">\n  <thead>\n    <tr style=\"text-align: right;\">\n      <th></th>\n      <th>r_gender</th>\n      <th>age</th>\n      <th>r_ivtrom</th>\n      <th>r_treall</th>\n      <th>b_pvstr</th>\n      <th>b_pvdm</th>\n      <th>b_pvrr</th>\n      <th>b_pvaf</th>\n      <th>b_pvhc</th>\n      <th>nihsco_abl_c</th>\n      <th>StudySubjectID</th>\n    </tr>\n  </thead>\n  <tbody>\n    <tr>\n      <th>0</th>\n      <td>Male</td>\n      <td>38.0</td>\n      <td>Yes</td>\n      <td>1 - Intra-arterial treatment</td>\n      <td>No</td>\n      <td>No</td>\n      <td>No</td>\n      <td>No</td>\n      <td>No</td>\n      <td>13.0</td>\n      <td>AMC001</td>\n    </tr>\n    <tr>\n      <th>1</th>\n      <td>Male</td>\n      <td>78.0</td>\n      <td>No</td>\n      <td>0 - No intra-arterial treatment</td>\n      <td>No</td>\n      <td>No</td>\n      <td>No</td>\n      <td>Yes</td>\n      <td>No</td>\n      <td>16.0</td>\n      <td>AMC002</td>\n    </tr>\n    <tr>\n      <th>2</th>\n      <td>Male</td>\n      <td>56.0</td>\n      <td>No</td>\n      <td>1 - Intra-arterial treatment</td>\n      <td>No</td>\n      <td>No</td>\n      <td>No</td>\n      <td>Yes</td>\n      <td>No</td>\n      <td>19.0</td>\n      <td>AMC003</td>\n    </tr>\n  </tbody>\n</table>\n</div>"
     },
     "execution_count": 19,
     "metadata": {},
     "output_type": "execute_result"
    }
   ],
   "source": [
    "baseline_X_pre.iloc[:3, :]"
   ],
   "metadata": {
    "collapsed": false,
    "pycharm": {
     "name": "#%%\n"
    }
   }
  },
  {
   "cell_type": "code",
   "execution_count": 24,
   "outputs": [
    {
     "name": "stderr",
     "output_type": "stream",
     "text": [
      "/var/folders/0b/2t921x515nx6m_3_8czjwjs80000gn/T/ipykernel_18396/25900607.py:1: SettingWithCopyWarning: \n",
      "A value is trying to be set on a copy of a slice from a DataFrame.\n",
      "Try using .loc[row_indexer,col_indexer] = value instead\n",
      "\n",
      "See the caveats in the documentation: https://pandas.pydata.org/pandas-docs/stable/user_guide/indexing.html#returning-a-view-versus-a-copy\n",
      "  baseline_X_pre[\"StudySubjectID\"] = baseline_X_pre.StudySubjectID.apply(lambda s: s[:3])\n"
     ]
    }
   ],
   "source": [
    "baseline_X_pre[\"StudySubjectID\"] = baseline_X_pre.StudySubjectID.apply(lambda s: s[:3])"
   ],
   "metadata": {
    "collapsed": false,
    "pycharm": {
     "name": "#%%\n"
    }
   }
  },
  {
   "cell_type": "markdown",
   "source": [],
   "metadata": {
    "collapsed": false,
    "pycharm": {
     "name": "#%% md\n"
    }
   }
  },
  {
   "cell_type": "code",
   "execution_count": 63,
   "outputs": [
    {
     "data": {
      "text/plain": "273.0"
     },
     "execution_count": 63,
     "metadata": {},
     "output_type": "execute_result"
    }
   ],
   "source": [
    "((np.array(baseline_X_pre[\"StudySubjectID\"].value_counts().iloc[:6].to_list()) / 370) * 273).round(0).sum()"
   ],
   "metadata": {
    "collapsed": false,
    "pycharm": {
     "name": "#%%\n"
    }
   }
  },
  {
   "cell_type": "code",
   "execution_count": 32,
   "outputs": [
    {
     "data": {
      "text/plain": "500"
     },
     "execution_count": 32,
     "metadata": {},
     "output_type": "execute_result"
    }
   ],
   "source": [
    "len(baseline_X_pre)"
   ],
   "metadata": {
    "collapsed": false,
    "pycharm": {
     "name": "#%%\n"
    }
   }
  },
  {
   "cell_type": "code",
   "execution_count": 44,
   "outputs": [],
   "source": [
    "x = 60 / 100 * 273"
   ],
   "metadata": {
    "collapsed": false,
    "pycharm": {
     "name": "#%%\n"
    }
   }
  },
  {
   "cell_type": "code",
   "execution_count": 46,
   "outputs": [
    {
     "data": {
      "text/plain": "163.79999999999998"
     },
     "execution_count": 46,
     "metadata": {},
     "output_type": "execute_result"
    }
   ],
   "source": [
    "x"
   ],
   "metadata": {
    "collapsed": false,
    "pycharm": {
     "name": "#%%\n"
    }
   }
  },
  {
   "cell_type": "code",
   "execution_count": 45,
   "outputs": [
    {
     "data": {
      "text/plain": "164"
     },
     "execution_count": 45,
     "metadata": {},
     "output_type": "execute_result"
    }
   ],
   "source": [
    "round(x)"
   ],
   "metadata": {
    "collapsed": false,
    "pycharm": {
     "name": "#%%\n"
    }
   }
  },
  {
   "cell_type": "code",
   "execution_count": 48,
   "outputs": [
    {
     "data": {
      "text/plain": "68"
     },
     "execution_count": 48,
     "metadata": {},
     "output_type": "execute_result"
    }
   ],
   "source": [
    "round(25 / 100 * 273)"
   ],
   "metadata": {
    "collapsed": false,
    "pycharm": {
     "name": "#%%\n"
    }
   }
  },
  {
   "cell_type": "code",
   "execution_count": 47,
   "outputs": [
    {
     "data": {
      "text/plain": "41"
     },
     "execution_count": 47,
     "metadata": {},
     "output_type": "execute_result"
    }
   ],
   "source": [
    "round(15 / 100 * 273)"
   ],
   "metadata": {
    "collapsed": false,
    "pycharm": {
     "name": "#%%\n"
    }
   }
  },
  {
   "cell_type": "code",
   "execution_count": 49,
   "outputs": [
    {
     "data": {
      "text/plain": "273"
     },
     "execution_count": 49,
     "metadata": {},
     "output_type": "execute_result"
    }
   ],
   "source": [
    "164 + 68 + 41"
   ],
   "metadata": {
    "collapsed": false,
    "pycharm": {
     "name": "#%%\n"
    }
   }
  },
  {
   "cell_type": "code",
   "execution_count": null,
   "outputs": [],
   "source": [
    "44.0\n",
    "38.0\n",
    "33.0\n",
    "32.0\n",
    "29.0\n",
    "27.0"
   ],
   "metadata": {
    "collapsed": false,
    "pycharm": {
     "name": "#%%\n"
    }
   }
  }
 ],
 "metadata": {
  "kernelspec": {
   "display_name": "Python 3",
   "language": "python",
   "name": "python3"
  },
  "language_info": {
   "codemirror_mode": {
    "name": "ipython",
    "version": 2
   },
   "file_extension": ".py",
   "mimetype": "text/x-python",
   "name": "python",
   "nbconvert_exporter": "python",
   "pygments_lexer": "ipython2",
   "version": "2.7.6"
  }
 },
 "nbformat": 4,
 "nbformat_minor": 0
}